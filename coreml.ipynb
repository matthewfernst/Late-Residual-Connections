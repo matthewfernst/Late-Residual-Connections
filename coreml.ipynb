{
 "cells": [
  {
   "cell_type": "code",
   "execution_count": 2,
   "metadata": {},
   "outputs": [],
   "source": [
    "import torch\n",
    "\n",
    "import Code.LateResidualPyTorch.LateResidualNeuralNetwork as LRNN"
   ]
  },
  {
   "cell_type": "code",
   "execution_count": 3,
   "metadata": {},
   "outputs": [
    {
     "data": {
      "text/plain": [
       "Sequential(\n",
       "  (0): Linear(in_features=1, out_features=2, bias=True)\n",
       "  (1): ReLU()\n",
       "  (2): Linear(in_features=2, out_features=2, bias=True)\n",
       "  (3): ReLU()\n",
       "  (4): Linear(in_features=2, out_features=1, bias=True)\n",
       ")"
      ]
     },
     "execution_count": 3,
     "metadata": {},
     "output_type": "execute_result"
    }
   ],
   "source": [
    "torch_model = LRNN.NNet(n_inputs=1, n_outputs=1, n_hiddens_list=[2,2], optimizer='Adam')\n",
    "torch_model.load_state_dict(torch.load('model.pt'))\n",
    "torch_model.model.eval()"
   ]
  },
  {
   "cell_type": "code",
   "execution_count": 4,
   "metadata": {},
   "outputs": [],
   "source": [
    "# see layers\n",
    "example_input = torch.rand(2, 1)\n",
    "traced_model = torch.jit.trace(torch_model.model, example_input)\n",
    "out = traced_model(example_input)"
   ]
  },
  {
   "cell_type": "markdown",
   "metadata": {},
   "source": [
    "#### CoreML Tools"
   ]
  },
  {
   "cell_type": "code",
   "execution_count": 7,
   "metadata": {},
   "outputs": [
    {
     "name": "stderr",
     "output_type": "stream",
     "text": [
      "Converting PyTorch Frontend ==> MIL Ops:  80%|████████  | 4/5 [00:00<00:00, 2621.03 ops/s]\n",
      "Running MIL Common passes:   0%|          | 0/38 [00:00<?, ? passes/s]/Users/matthewernst/miniforge3/lib/python3.10/site-packages/coremltools/converters/mil/mil/passes/name_sanitization_utils.py:129: UserWarning: Output, '15', of the source model, has been renamed to 'var_15' in the Core ML model.\n",
      "  warnings.warn(msg.format(var.name, new_name))\n",
      "Running MIL Common passes: 100%|██████████| 38/38 [00:00<00:00, 4560.33 passes/s]\n",
      "Running MIL FP16ComputePrecision pass: 100%|██████████| 1/1 [00:00<00:00, 311.22 passes/s]\n",
      "Running MIL Clean up passes: 100%|██████████| 11/11 [00:00<00:00, 2497.15 passes/s]\n"
     ]
    }
   ],
   "source": [
    "import coremltools as ct\n",
    "\n",
    "model = ct.convert(\n",
    "    traced_model,\n",
    "    convert_to=\"mlprogram\", \n",
    "    inputs=[ct.TensorType(name=\"input\", shape=example_input.shape)],\n",
    ")\n",
    "model.save(\"lrnn_test.mlpackage\")"
   ]
  },
  {
   "cell_type": "code",
   "execution_count": 10,
   "metadata": {},
   "outputs": [
    {
     "name": "stderr",
     "output_type": "stream",
     "text": [
      "Converting PyTorch Frontend ==> MIL Ops:  80%|████████  | 4/5 [00:00<00:00, 8568.55 ops/s]\n",
      "Running MIL Common passes:   0%|          | 0/38 [00:00<?, ? passes/s]/Users/matthewernst/miniforge3/lib/python3.10/site-packages/coremltools/converters/mil/mil/passes/name_sanitization_utils.py:129: UserWarning: Output, '15', of the source model, has been renamed to 'var_15' in the Core ML model.\n",
      "  warnings.warn(msg.format(var.name, new_name))\n",
      "Running MIL Common passes: 100%|██████████| 38/38 [00:00<00:00, 6498.02 passes/s]\n",
      "Running MIL Clean up passes: 100%|██████████| 11/11 [00:00<00:00, 8877.69 passes/s]\n",
      "Translating MIL ==> NeuralNetwork Ops: 100%|██████████| 11/11 [00:00<00:00, 53461.58 ops/s]\n"
     ]
    }
   ],
   "source": [
    "model = ct.convert(\n",
    "    traced_model,\n",
    "    inputs=[ct.TensorType(name=\"input\", shape=example_input.shape)]\n",
    ")\n",
    "model.save(\"lrnn_test.mlmodel\")"
   ]
  },
  {
   "cell_type": "code",
   "execution_count": null,
   "metadata": {},
   "outputs": [],
   "source": []
  }
 ],
 "metadata": {
  "kernelspec": {
   "display_name": "Python 3.10.6 ('base')",
   "language": "python",
   "name": "python3"
  },
  "language_info": {
   "codemirror_mode": {
    "name": "ipython",
    "version": 3
   },
   "file_extension": ".py",
   "mimetype": "text/x-python",
   "name": "python",
   "nbconvert_exporter": "python",
   "pygments_lexer": "ipython3",
   "version": "3.10.6"
  },
  "orig_nbformat": 4,
  "vscode": {
   "interpreter": {
    "hash": "4566874afae53aa935192594b4addf6bf1c8d20287ab95b931df82232535f136"
   }
  }
 },
 "nbformat": 4,
 "nbformat_minor": 2
}
