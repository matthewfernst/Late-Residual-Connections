{
 "cells": [
  {
   "cell_type": "code",
   "execution_count": 61,
   "id": "20392edf",
   "metadata": {
    "ExecuteTime": {
     "end_time": "2021-11-02T01:25:28.090353Z",
     "start_time": "2021-11-02T01:25:28.087934Z"
    }
   },
   "outputs": [],
   "source": [
    "import numpy as np\n",
    "import torch\n",
    "import matplotlib.pyplot as plt\n",
    "import pandas as pd\n",
    "import time\n",
    "from termcolor import colored\n",
    "from tqdm.notebook import tqdm\n",
    "from collections import defaultdict"
   ]
  },
  {
   "cell_type": "markdown",
   "id": "19f46d00",
   "metadata": {},
   "source": [
    "## Playground"
   ]
  },
  {
   "cell_type": "code",
   "execution_count": 62,
   "id": "bc829cd0",
   "metadata": {
    "ExecuteTime": {
     "end_time": "2021-11-02T01:25:28.821557Z",
     "start_time": "2021-11-02T01:25:28.818326Z"
    }
   },
   "outputs": [],
   "source": [
    "class ResidualBlock(torch.nn.Module):\n",
    "    def __init__(self):\n",
    "        super().__init__()\n",
    "        self.residual_connection = torch.nn.Identity()\n",
    "        \n",
    "    def forward (self, x):\n",
    "        return self.residual_connection(x)\n"
   ]
  },
  {
   "cell_type": "code",
   "execution_count": 63,
   "id": "3b85c558",
   "metadata": {
    "ExecuteTime": {
     "end_time": "2021-11-02T01:32:01.555919Z",
     "start_time": "2021-11-02T01:32:01.540021Z"
    }
   },
   "outputs": [],
   "source": [
    "class NNet(torch.nn.Module):\n",
    "    \n",
    "    def __init__(self, n_inputs, n_hiddens_list, n_outputs, method=None, verbose=False):\n",
    "        super().__init__()  # call parent class (torch.nn.Module) constructor\n",
    "        self.verbose = verbose\n",
    "      \n",
    "        \n",
    "        # Set self.n_hiddens_per_layer to [] if argument is 0, [], or [0]\n",
    "        if n_hiddens_list == 0 or n_hiddens_list == [] or n_hiddens_list == [0]:\n",
    "            layers = torch.nn.Linear(n_inputs, n_outputs)\n",
    "            \n",
    "        else:\n",
    "            self.input_layer = torch.nn.Linear(n_inputs, n_hiddens_list[0])\n",
    "            self.input_relu = torch.nn.ReLU()\n",
    "            \n",
    "            layers = []\n",
    "            self.residual_layers = []\n",
    "            self.regular_layers = []\n",
    "            \n",
    "            for nh in n_hiddens_list[:-1]:\n",
    "                self.regular_layers.append(torch.nn.Linear(n_inputs, nh))\n",
    "                layers.append(self.regular_layers[-1])\n",
    "                self.regular_layers.append(torch.nn.ReLU())\n",
    "                layers.append(self.regular_layers[-1])\n",
    "                n_inputs = nh\n",
    "                self.residual_layers.append(self.get_residual_layer())\n",
    "                layers.append(self.residual_layers[-1])\n",
    "                \n",
    "                \n",
    "            layers.append(torch.nn.Linear(n_inputs, n_hiddens_list[-1]))\n",
    "            layers.append(torch.nn.ReLU())\n",
    "            self.output_layer = torch.nn.Linear(np.sum(n_hiddens_list), n_outputs)\n",
    "            layers.append(self.output_layer)\n",
    "            \n",
    "            self.model = torch.nn.Sequential(*layers)\n",
    "            \n",
    "            \n",
    "        self.Xmeans = None\n",
    "        self.Xstds = None\n",
    "        self.Tmeans = None\n",
    "        self.Tstds = None\n",
    "\n",
    "        self.error_trace = []\n",
    "        self.method = method\n",
    "        \n",
    "    def get_residual_layer(self):\n",
    "        layers = []\n",
    "        layers.append(ResidualBlock())\n",
    "        return torch.nn.Sequential(*layers)\n",
    "    \n",
    "    def forward(self, x):\n",
    "\n",
    "        residual_outs = []\n",
    "        self.layer_outputs = []\n",
    "        \n",
    "        for index, layer in enumerate(self.model):\n",
    "            if index != len(self.model)-1:\n",
    "                # For Regular Layers          \n",
    "                if isinstance(layer, torch.nn.Linear):\n",
    "                    x = layer(x)\n",
    "                elif isinstance(layer, torch.nn.ReLU):\n",
    "                    x = layer(x)\n",
    "                    self.layer_outputs.append(x.detach().numpy())\n",
    "\n",
    "                # For Residual Layers\n",
    "                elif isinstance(layer, torch.nn.Sequential):\n",
    "                    residual_outs.append(x)\n",
    "                else:\n",
    "                    raise Exception(f'{layer} is not an appropriate layer.')\n",
    "        \n",
    "        # Concat all residual outs and normal out\n",
    "        # push through to the outputlayer\n",
    "        residual_outs.append(x)\n",
    "        all_outs = torch.cat(tuple(residual_outs),dim=1)        \n",
    "        x = self.output_layer(all_outs)\n",
    "\n",
    "        return x\n",
    "        \n",
    "\n",
    "    def train(self, X, T, n_epochs, learning_rate, train_style, verbose=True):\n",
    "\n",
    "        # Set data matrices to torch.tensors if not already.\n",
    "        if not isinstance(X, torch.Tensor):\n",
    "            X = torch.from_numpy(X).float()\n",
    "        if not isinstance(T, torch.Tensor):\n",
    "            T = torch.from_numpy(T).float()\n",
    "            \n",
    "        # Calculate standardization parameters if not already calculated\n",
    "        if self.Xmeans is None:\n",
    "            self.Xmeans = X.mean(0)\n",
    "            self.Xstds = X.std(0)\n",
    "            self.Xstds[self.Xstds == 0] = 1\n",
    "            self.Tmeans = T.mean(0)\n",
    "            self.Tstds = T.std(0)\n",
    "            self.Tstds[self.Tstds == 0] = 1\n",
    "\n",
    "            \n",
    "        # Standardize inputs and targets\n",
    "        X = (X - self.Xmeans) / self.Xstds\n",
    "        T = (T - self.Tmeans) / self.Tstds\n",
    "        \n",
    "        \n",
    "        # Set optimizer to Adam and loss functions to MSELoss\n",
    "        optimizer = None\n",
    "        if self.method == 'adam':\n",
    "            optimizer = torch.optim.Adam(self.parameters(), lr=learning_rate)\n",
    "        elif self.method == 'sgd':\n",
    "            optimizer = torch.optim.SGD(self.parameters(), lr=learning_rate)\n",
    "        else:\n",
    "            raise Exception(f'Must select Adam or SGD Optimizer. Got {self.method}')\n",
    "        mse_func = torch.nn.MSELoss()\n",
    "\n",
    "        unstndErr = lambda err:(torch.sqrt(err) * self.Tstds)[0]\n",
    "\n",
    "        for epoch in range(n_epochs):\n",
    "            \n",
    "            # Compute Prediction and loss\n",
    "            if train_style == 'batch':\n",
    "                Y = self.forward(X)\n",
    "                mse = mse_func(T, Y)\n",
    "            else:\n",
    "                Y = self.forward(X[epoch % len(X)].reshape(-1,1))\n",
    "                mse = mse_func(T[epoch % len(T)].reshape(-1,1), Y)\n",
    "            \n",
    "            # Backpropigation\n",
    "            optimizer.zero_grad()\n",
    "            mse.backward()\n",
    "            optimizer.step()\n",
    "          \n",
    "            self.error_trace.append(unstndErr(mse))\n",
    "            \n",
    "            if verbose and ((epoch+1 == n_epochs) or np.mod(epoch+1 , (n_epochs // 10)) == 0):\n",
    "                print(f'Epoch {epoch + 1}: RMSE {self.error_trace[-1]:.3f}')\n",
    "            \n",
    "\n",
    "    def use(self, X):\n",
    " \n",
    "       # Set input matrix to torch.tensors if not already.\n",
    "        if not isinstance(X, torch.Tensor):\n",
    "            X = torch.from_numpy(X).float()\n",
    "\n",
    "        # Standardize X\n",
    "\n",
    "        X = (X - self.Xmeans) / self.Xstds\n",
    "        \n",
    "        # Do forward pass and unstandardize resulting output. Assign to variable Y.\n",
    "        Y = self.forward(X)\n",
    "        Y = (Y * self.Tstds) + self.Tmeans\n",
    "        # Return output Y after detaching from computation graph and converting to numpy\n",
    "\n",
    "        return Y.detach().numpy()\n",
    "\n",
    "\n",
    "    def dead_neurons(self, verbose=True):\n",
    "        dead_neurons = 0\n",
    "        all_layer_dead = []\n",
    "        dead_layers = 0\n",
    "        \n",
    "        for layer in self.layer_outputs:\n",
    "            for neuron in layer.T:\n",
    "                if np.all(neuron == 0):\n",
    "                    dead_neurons += 1\n",
    "                    all_layer_dead.append(True)\n",
    "            if np.all(all_layer_dead):\n",
    "                dead_layers += 1\n",
    "            all_layer_dead = []\n",
    "        return dead_neurons, dead_layers"
   ]
  },
  {
   "cell_type": "code",
   "execution_count": 64,
   "id": "d043ce0a",
   "metadata": {
    "ExecuteTime": {
     "end_time": "2021-11-02T01:32:01.829445Z",
     "start_time": "2021-11-02T01:32:01.827290Z"
    }
   },
   "outputs": [],
   "source": [
    "def rmse(Y, T):\n",
    "    return np.sqrt(np.mean((T - Y)**2))"
   ]
  },
  {
   "cell_type": "markdown",
   "id": "221df9e2",
   "metadata": {},
   "source": [
    "## Absolute Value Data"
   ]
  },
  {
   "cell_type": "code",
   "execution_count": 65,
   "id": "c5d0b239",
   "metadata": {
    "ExecuteTime": {
     "end_time": "2021-11-02T01:32:02.269139Z",
     "start_time": "2021-11-02T01:32:02.256913Z"
    },
    "scrolled": true
   },
   "outputs": [
    {
     "data": {
      "text/plain": [
       "((20, 1), (20, 1))"
      ]
     },
     "execution_count": 65,
     "metadata": {},
     "output_type": "execute_result"
    }
   ],
   "source": [
    "df = pd.read_csv('Rnd.csv')\n",
    "X = df['X'].values\n",
    "X = X.reshape(-1,1)\n",
    "\n",
    "T = df['T'].values\n",
    "T = T.reshape(-1, 1)\n",
    "\n",
    "X.shape, T.shape"
   ]
  },
  {
   "cell_type": "markdown",
   "id": "4a5270a9",
   "metadata": {},
   "source": [
    "## Low Hanging Fruit"
   ]
  },
  {
   "cell_type": "code",
   "execution_count": 66,
   "id": "1ea61bdc",
   "metadata": {
    "ExecuteTime": {
     "end_time": "2021-11-02T01:32:03.034729Z",
     "start_time": "2021-11-02T01:32:03.017199Z"
    },
    "scrolled": false
   },
   "outputs": [
    {
     "name": "stdout",
     "output_type": "stream",
     "text": [
      "Epoch 150: RMSE 0.001\n",
      "Epoch 300: RMSE 0.001\n",
      "Epoch 450: RMSE 0.000\n",
      "Epoch 600: RMSE 0.000\n",
      "Epoch 750: RMSE 0.000\n",
      "Epoch 900: RMSE 0.000\n",
      "Epoch 1050: RMSE 0.000\n",
      "Epoch 1200: RMSE 0.000\n",
      "Epoch 1350: RMSE 0.000\n",
      "Epoch 1500: RMSE 0.000\n",
      "FINAL RMSE: 0.00\n",
      "(9, 5)\n"
     ]
    },
    {
     "data": {
      "image/png": "[encoded data removed]",
      "text/plain": [
       "<Figure size 1080x720 with 2 Axes>"
      ]
     },
     "metadata": {
      "needs_background": "light"
     },
     "output_type": "display_data"
    }
   ],
   "source": [
    "n_hiddens = [4 for _ in range(5)]\n",
    "n = NNet(1, n_hiddens, 1, method='adam') \n",
    "\n",
    "# print(n.model)\n",
    "n.train(X, T, 1500, 0.01, train_style='batch')\n",
    "# print(n.layer_outputs)\n",
    "Y = n.use(X)\n",
    "print(f'FINAL RMSE: {rmse(Y, T):.2f}')\n",
    "print(n.dead_neurons())\n",
    "\n",
    "# top, bottom = n.dead_neurons(X)\n",
    "plt.figure(figsize=(15,10))\n",
    "\n",
    "plt.subplot(1, 2, 1)\n",
    "plt.plot(n.error_trace, label='Adam')\n",
    "plt.xlabel('Epoch')\n",
    "plt.ylabel('RMSE')\n",
    "plt.ylim((0.0, 0.3))\n",
    "plt.legend()\n",
    "\n",
    "plt.subplot(1, 2, 2)\n",
    "plt.plot(Y, '-s', label='Adam')\n",
    "plt.plot(T, '-o', label='Target')\n",
    "plt.xlabel('Sample')\n",
    "plt.ylabel('Target or Predicted')\n",
    "plt.legend()\n",
    "\n",
    "plt.tight_layout()\n"
   ]
  },
  {
   "cell_type": "code",
   "execution_count": 67,
   "id": "9b98e641",
   "metadata": {},
   "outputs": [
    {
     "name": "stdout",
     "output_type": "stream",
     "text": [
      "Parameter containing:\n",
      "tensor([-0.7955, -0.2000,  0.4118, -0.0057], requires_grad=True)\n",
      "Parameter containing:\n",
      "tensor([ 0.6795, -0.2346,  0.4359, -0.1627], requires_grad=True)\n",
      "Parameter containing:\n",
      "tensor([-0.2236,  0.5592, -0.4617,  0.4683], requires_grad=True)\n",
      "Parameter containing:\n",
      "tensor([ 0.1288, -0.3284,  0.6537, -0.4760], requires_grad=True)\n",
      "Parameter containing:\n",
      "tensor([-0.4431, -0.3765,  0.5380,  0.6824], requires_grad=True)\n",
      "Parameter containing:\n",
      "tensor([-0.2848], requires_grad=True)\n"
     ]
    }
   ],
   "source": [
    "for layer in n.model:\n",
    "    if isinstance(layer, torch.nn.Linear):\n",
    "        print(layer.bias)"
   ]
  },
  {
   "cell_type": "code",
   "execution_count": 68,
   "id": "83a53727",
   "metadata": {
    "ExecuteTime": {
     "end_time": "2021-11-02T01:31:32.363122Z",
     "start_time": "2021-11-02T01:31:32.358752Z"
    }
   },
   "outputs": [],
   "source": [
    "def display_graph(X, model, lr, n_hiddens, method, iteration, train_style, did_converge):\n",
    "\n",
    "    depth = f'{len(n_hiddens)}'\n",
    "    arch = f'[2 for _ in range({len(n_hiddens)})]'\n",
    "    \n",
    "    color = 'blue' if method =='Adam' else 'orange'\n",
    "\n",
    "    conv_or_no_conv = 'c' if did_converge else 'nc'\n",
    "\n",
    "    lr_dir = None\n",
    "    if lr == 0.01:\n",
    "        lr_dir = 'LR0_01'\n",
    "    elif lr == 0.001:\n",
    "        lr_dir = 'LR0_001'\n",
    "    elif lr == 0.1:\n",
    "        lr_dir = 'LR0_1'\n",
    "    else:\n",
    "        raise Exception('{lr} is not a correct learing rate')\n",
    "\n",
    "    Y = model.use(X)\n",
    "\n",
    "    plt.figure(figsize=(10,5))\n",
    "\n",
    "    plt.suptitle(f'{arch}', fontsize=16)\n",
    "    plt.subplot(1, 2, 1)\n",
    "    plt.plot(model.error_trace, color=color, label=method)\n",
    "    plt.xlabel('Epoch')\n",
    "    plt.ylabel('RMSE')\n",
    "    plt.ylim((0.0, 0.3))\n",
    "    plt.legend()\n",
    "\n",
    "    plt.subplot(1, 2, 2)\n",
    "    \n",
    "    plt.plot(Y, '-s', color=color, label=method)\n",
    "    plt.plot(T, '-o', color='green', label='Target')\n",
    "    plt.xlabel('Sample')\n",
    "    plt.ylabel('Target or Predicted')\n",
    "    plt.legend()\n",
    "    \n",
    "    plt.savefig(f'Graphs/ResidualConnections/{train_style}/{lr_dir}/{method}_depth_{depth}_it{iteration + 1}_{conv_or_no_conv}.jpeg',  bbox_inches = 'tight')\n",
    "    plt.close()"
   ]
  },
  {
   "cell_type": "code",
   "execution_count": 69,
   "id": "689823c5",
   "metadata": {
    "ExecuteTime": {
     "end_time": "2021-11-02T01:21:45.629794Z",
     "start_time": "2021-11-02T01:21:45.629786Z"
    }
   },
   "outputs": [],
   "source": [
    "def run_experiment(X, T, n_hiddens, lr, method, train_style, verbose=False):\n",
    "    \n",
    "    epochs = 3000\n",
    "    convergence_threshold = 0.07\n",
    "\n",
    "    if verbose:\n",
    "        print('--------> {method} <--------')\n",
    "    model = NNet(1, n_hiddens, 1, method=method, verbose=verbose) \n",
    "    start = time.time()\n",
    "    model.train(X, T, epochs, lr, train_style=train_style,verbose=verbose)\n",
    "    end = time.time()\n",
    "    total_time = end - start\n",
    "    Y = model.use(X)\n",
    "    final_rmse = rmse(Y, T)\n",
    "    if verbose:\n",
    "        print(f'Total Time to Train {(total_time):.3f} seconds')\n",
    "        print(f'RMSE {final_rmse:.3f}\\n')\n",
    "    \n",
    "    if verbose:\n",
    "        print(f'{method} Dead Neurons:')\n",
    "\n",
    "    dead_neurons, dead_layers = model.dead_neurons(verbose=False)\n",
    "\n",
    "    return (final_rmse <= convergence_threshold, [dead_neurons, dead_layers, total_time], model)"
   ]
  },
  {
   "cell_type": "markdown",
   "id": "36506a60",
   "metadata": {},
   "source": [
    "<br>\n",
    "<br>\n",
    "<br>"
   ]
  },
  {
   "cell_type": "code",
   "execution_count": 70,
   "id": "d6d82be9",
   "metadata": {},
   "outputs": [],
   "source": [
    "def update_excel_results(specific_lr, pattern, connection, method, num_conv_or_no_conv, dead_neurons, dead_layers, time, did_converge=False):\n",
    "\n",
    "    def get_row_start_end(connection, did_converge, method):\n",
    "        if connection == 'non_residual' and did_converge:\n",
    "            if method == 'adam':\n",
    "                row_start = 2\n",
    "                row_end = 15\n",
    "            else:\n",
    "                row_start = 18\n",
    "                row_end = 31\n",
    "        \n",
    "        elif connection == 'residual' and did_converge:\n",
    "            if method == 'adam':\n",
    "                row_start = 3\n",
    "                row_end = 16\n",
    "            else:\n",
    "                row_start = 19\n",
    "                row_end = 32\n",
    "        \n",
    "        \n",
    "        elif connection == 'non_residual' and not did_converge:\n",
    "            if method == 'adam':\n",
    "                row_start = 34\n",
    "                row_end = 47\n",
    "            else:\n",
    "                row_start = 50\n",
    "                row_end = 63\n",
    "        \n",
    "        elif connection == 'residual' and not did_converge:\n",
    "            if method == 'adam':\n",
    "                row_start = 35\n",
    "                row_end = 48\n",
    "            else:\n",
    "                row_start = 51\n",
    "                row_end = 65\n",
    "        else: \n",
    "\n",
    "            raise Exception(f'connection must be \\'non_residual\\' or \\'residual\\'. Got {connection}')\n",
    "\n",
    "        return row_start, row_end\n",
    "                \n",
    "    df = pd.read_excel('Results.xlsx', header=None)\n",
    "    \n",
    "    row_start, row_end = get_row_start_end(connection, did_converge, method)\n",
    "\n",
    "    if pattern == 'iterative':\n",
    "        total_c_or_nc_column = specific_lr['IT_TOTALCNC']\n",
    "        dead_neuron_column = specific_lr['IT_DEAD']\n",
    "        dead_layer_column = specific_lr['IT_DEAD_LAYERS']\n",
    "        training_time_column = specific_lr['IT_TIME']\n",
    "        \n",
    "        \n",
    "    elif pattern == 'batch':\n",
    "        total_c_or_nc_column = specific_lr['BATCH_TOTALCNC']\n",
    "        dead_neuron_column = specific_lr['BATCH_DEAD']\n",
    "        dead_layer_column = specific_lr['BATCH_DEAD_LAYERS']\n",
    "        training_time_column = specific_lr['BATCH_TIME']\n",
    "        \n",
    "        \n",
    "    else: \n",
    "        raise Exception(f'pattern must be \\'iterative\\' or \\'batch\\'. Got {pattern}')\n",
    "\n",
    "\n",
    "    for row, c_or_no_c, dead_n, dead_l, avg_time in zip(range(row_start, row_end, 2), num_conv_or_no_conv, dead_neurons, dead_layers, time):\n",
    "        # How many convergence or no convergence\n",
    "        df.iat[row, total_c_or_nc_column] = c_or_no_c\n",
    "\n",
    "        # Dead Neurons\n",
    "        df.iat[row, dead_neuron_column] = round(dead_n, 2)\n",
    "\n",
    "        # Dead Layers\n",
    "        df.iat[row, dead_layer_column] = round(dead_l, 2)\n",
    "\n",
    "        # Training Time\n",
    "        df.iat[row, training_time_column] = round(avg_time, 3)\n",
    "\n",
    "\n",
    "    df.to_excel('Results.xlsx', sheet_name='Sheet1', index=False, header=False)"
   ]
  },
  {
   "cell_type": "code",
   "execution_count": 71,
   "id": "6acc007e",
   "metadata": {},
   "outputs": [],
   "source": [
    "def archs_avg(lr, n_hiddens, adam_dead, adam_layers, adam_time, sgd_dead, sgd_layers, sgd_time, did_converge=False):\n",
    "\n",
    "    conv = 'CONVERGENCE' if did_converge else 'NO CONVERGENCE'\n",
    "    adam_avg_dead = np.average(adam_dead)\n",
    "    adam_avg_time = np.average(adam_time)\n",
    "    adam_avg_layers = np.average(adam_layers)\n",
    "\n",
    "    sgd_avg_dead = np.average(sgd_dead)\n",
    "    sgd_avg_time = np.average(sgd_time)\n",
    "    sgd_avg_layers = np.average(sgd_layers)\n",
    "\n",
    "\n",
    "    pretty_result = \"============================= COMPLETE =============================\\n\"\n",
    "    pretty_result += f'------ ARCH: [4 for _ in range({len(n_hiddens)})] LR: {lr} {conv}------\\n'\n",
    "    pretty_result += '****** Adam ******\\n'\n",
    "    pretty_result += f'Dead Neurons: {adam_avg_dead:.2f}\\tDead Layers: {adam_avg_layers:.3f}\\tTraining Time: {adam_avg_time:.3f}\\n\\n\\n'\n",
    "    pretty_result += '****** SGD ******\\n'\n",
    "    pretty_result += f'Dead Neurons: {sgd_avg_dead:.2f}\\tDead Layers: {sgd_avg_layers:.3f}\\tTraining Time: {sgd_avg_time:.3f}\\n\\n\\n'\n",
    "    pretty_result += \"============================= COMPLETE =============================\\n\\n\\n\\n\"\n",
    "    \n",
    "    print(pretty_result)\n",
    "\n",
    "    return adam_avg_dead, adam_avg_layers, adam_avg_time, sgd_avg_dead, sgd_avg_layers, sgd_avg_time"
   ]
  },
  {
   "cell_type": "markdown",
   "id": "59286cb9",
   "metadata": {},
   "source": [
    "## Experiment"
   ]
  },
  {
   "cell_type": "code",
   "execution_count": 72,
   "id": "d667f0b0",
   "metadata": {},
   "outputs": [],
   "source": [
    "def get_specific_lr(lr):\n",
    "    specific_lr = None\n",
    "    if lr == 0.01:\n",
    "        specific_lr = {'IT_TOTALCNC': 1, 'IT_DEAD': 2, 'IT_DEAD_LAYERS': 3, 'IT_TIME': 4, 'BATCH_TOTALCNC': 5, 'BATCH_DEAD': 6, 'BATCH_DEAD_LAYERS': 7,'BATCH_TIME': 8}\n",
    "    elif lr == 0.001:\n",
    "        specific_lr = {'IT_TOTALCNC': 11, 'IT_DEAD': 12, 'IT_DEAD_LAYERS': 13, 'IT_TIME': 14, 'BATCH_TOTALCNC': 15, 'BATCH_DEAD': 16, 'BATCH_DEAD_LAYERS': 17,'BATCH_TIME': 18}\n",
    "    elif lr == 0.1:\n",
    "        specific_lr = {'IT_TOTALCNC': 21, 'IT_DEAD': 22, 'IT_DEAD_LAYERS': 23, 'IT_TIME': 24, 'BATCH_TOTALCNC': 25, 'BATCH_DEAD': 26, 'BATCH_DEAD_LAYERS': 27,'BATCH_TIME': 28}\n",
    "    else:\n",
    "        raise Exception(f'{lr} is not a used learning rate.') \n",
    "    return specific_lr"
   ]
  },
  {
   "cell_type": "code",
   "execution_count": 73,
   "id": "9f33a98c",
   "metadata": {},
   "outputs": [],
   "source": [
    "def main(lr, train_style):\n",
    "    n_hiddens = [[2 for _ in range(2)], [2 for _ in range(5)], [2 for _ in range(10)], [2 for _ in range(15)], [2 for _ in range(20)], [2 for _ in range(25)], [2 for _ in range(30)]]\n",
    "\n",
    "    specific_lr = get_specific_lr(lr)\n",
    "\n",
    "    adam_conv_all_dead = []\n",
    "    adam_conv_all_layers = []\n",
    "    adam_conv_all_time = []\n",
    "    adam_total_num_conv = []\n",
    "\n",
    "\n",
    "    adam_no_conv_all_dead = []\n",
    "    adam_no_conv_all_layers = []\n",
    "    adam_no_conv_all_time = []\n",
    "    adam_total_num_no_conv = []\n",
    " \n",
    "    \n",
    "\n",
    "    sgd_conv_all_dead = []\n",
    "    sgd_conv_all_layers = []\n",
    "    sgd_conv_all_time = []\n",
    "    sgd_total_num_conv = []\n",
    "\n",
    "    \n",
    "\n",
    "    sgd_no_conv_all_dead = []\n",
    "    sgd_no_conv_all_layers = []\n",
    "    sgd_no_conv_all_time = []\n",
    "    sgd_total_num_no_conv = []\n",
    "\n",
    "   \n",
    "\n",
    "\n",
    "    print(colored('==================STARTING EXPERIMENT==================', 'yellow', attrs=['blink']))\n",
    "\n",
    "\n",
    "    for arch in n_hiddens:\n",
    "        adam_num_conv = 0\n",
    "        adam_conv_dead = []\n",
    "        adam_conv_layers = []\n",
    "        adam_conv_time = []\n",
    "        \n",
    "        adam_num_no_conv = 0\n",
    "        adam_no_conv_dead = []\n",
    "        adam_no_conv_layers = []\n",
    "        adam_no_conv_time = []\n",
    "        \n",
    "        sgd_num_conv = 0\n",
    "        sgd_conv_dead = []\n",
    "        sgd_conv_layers = []\n",
    "        sgd_conv_time = []\n",
    "        \n",
    "        sgd_num_no_conv = 0\n",
    "        sgd_no_conv_dead = []\n",
    "        sgd_no_conv_layers = []\n",
    "        sgd_no_conv_time = []\n",
    "        \n",
    "        NEURONS = 0\n",
    "        LAYERS = 1\n",
    "        TIME = 2\n",
    "\n",
    "        print(colored(f\"################# TRAINING #################\", 'magenta', attrs =['blink']))\n",
    "        print(colored(f'\\tARCH: [4 for _ in range({len(arch)})] LR: {lr}', 'magenta', attrs=['blink']))\n",
    "        print(colored(f\"############################################\\n\", 'magenta', attrs=['blink']))\n",
    "\n",
    "        for iteration in tqdm(range(10)):\n",
    "            \n",
    "            for method in ['adam', 'sgd']:\n",
    "                did_converge, results, model = run_experiment(X, T, arch, lr, method, train_style=train_style, verbose=False)\n",
    "                \n",
    "                if did_converge and method == 'adam':\n",
    "                    adam_conv_dead.append(results[NEURONS])\n",
    "                    adam_conv_layers.append(results[LAYERS])\n",
    "                    adam_conv_time.append(results[TIME])\n",
    "                    adam_num_conv += 1\n",
    "                    \n",
    "                elif did_converge and method == 'sgd':\n",
    "                    sgd_conv_dead.append(results[NEURONS])\n",
    "                    sgd_conv_layers.append(results[LAYERS])\n",
    "                    sgd_conv_time.append(results[TIME])\n",
    "                    sgd_num_conv += 1\n",
    "\n",
    "                elif not did_converge and method =='adam':\n",
    "                    adam_no_conv_dead.append(results[NEURONS])\n",
    "                    adam_no_conv_layers.append(results[LAYERS])\n",
    "                    adam_no_conv_time.append(results[TIME])\n",
    "                    adam_num_no_conv += 1\n",
    "\n",
    "                elif not did_converge and method == 'sgd':\n",
    "                    sgd_no_conv_dead.append(results[NEURONS])\n",
    "                    sgd_no_conv_layers.append(results[LAYERS])\n",
    "                    sgd_no_conv_time.append(results[TIME])\n",
    "                    sgd_num_no_conv += 1\n",
    "                    \n",
    "                else:\n",
    "                    raise Exception(f'Either method {method} or did_converge {did_converge} is wrong.')\n",
    "\n",
    "#                 display_graph(X, model, lr, arch, method, iteration, train_style, did_converge)\n",
    "\n",
    "        adam_total_num_conv.append(adam_num_conv)\n",
    "        adam_total_num_no_conv.append(adam_num_no_conv)\n",
    "\n",
    "        sgd_total_num_conv.append(sgd_num_conv)\n",
    "        sgd_total_num_no_conv.append(sgd_num_no_conv)\n",
    "\n",
    "        # Convergence\n",
    "        adam_conv_dead_avg, adam_conv_layer_avg, adam_conv_time_avg, sgd_conv_dead_avg, sgd_conv_layer_avg, sgd_conv_time_avg = \\\n",
    "                archs_avg(lr, arch, adam_conv_dead, adam_conv_layers, adam_conv_time, sgd_conv_dead, sgd_conv_layers, sgd_conv_time, did_converge=True)\n",
    "\n",
    "\n",
    "        adam_conv_all_dead.append(adam_conv_dead_avg)\n",
    "        adam_conv_all_layers.append(adam_conv_layer_avg)\n",
    "        adam_conv_all_time.append(adam_conv_time_avg)\n",
    "\n",
    "\n",
    "        sgd_conv_all_dead.append(sgd_conv_dead_avg)\n",
    "        sgd_conv_all_layers.append(sgd_conv_layer_avg)\n",
    "        sgd_conv_all_time.append(sgd_conv_time_avg)\n",
    "  \n",
    "\n",
    "\n",
    "        # No Convergence\n",
    "        adam_no_conv_dead_avg, adam_no_conv_layer_avg, adam_no_conv_time_avg, sgd_no_conv_dead_avg, sgd_no_conv_layer_avg, sgd_no_conv_time_avg = \\\n",
    "                archs_avg(lr, arch, adam_no_conv_dead, adam_no_conv_layers, adam_no_conv_time, sgd_no_conv_dead, sgd_no_conv_layers, sgd_no_conv_time)\n",
    "\n",
    "\n",
    "        adam_no_conv_all_dead.append(adam_no_conv_dead_avg)\n",
    "        adam_no_conv_all_layers.append(adam_no_conv_layer_avg)\n",
    "        adam_no_conv_all_time.append(adam_no_conv_time_avg)\n",
    "\n",
    "\n",
    "        sgd_no_conv_all_dead.append(sgd_no_conv_dead_avg)\n",
    "        sgd_no_conv_all_layers.append(sgd_no_conv_layer_avg)\n",
    "        sgd_no_conv_all_time.append(sgd_no_conv_time_avg)\n",
    "\n",
    "\n",
    "    update_excel_results(specific_lr, train_style, 'residual', 'adam', adam_total_num_conv, adam_conv_all_dead, adam_conv_all_layers, adam_conv_all_time, did_converge=True)\n",
    "    update_excel_results(specific_lr, train_style, 'residual', 'adam', adam_total_num_no_conv, adam_no_conv_all_dead, adam_no_conv_all_layers, adam_no_conv_all_time)\n",
    "\n",
    "    update_excel_results(specific_lr, train_style, 'residual', 'sgd', sgd_total_num_conv, sgd_conv_all_dead, sgd_conv_all_layers, sgd_conv_all_time, did_converge=True)\n",
    "    update_excel_results(specific_lr, train_style, 'residual', 'sgd', sgd_total_num_no_conv, sgd_no_conv_all_dead, sgd_no_conv_all_layers, sgd_no_conv_all_time)\n",
    "\n",
    "\n",
    "    print(colored('==================EXPERIMENT COMPLETE ==================', 'yellow', attrs=['blink']))\n",
    "\n"
   ]
  },
  {
   "cell_type": "code",
   "execution_count": 74,
   "id": "ded9807c",
   "metadata": {},
   "outputs": [],
   "source": [
    "def run_all():\n",
    "    main(lr=0.01, train_style='iterative')\n",
    "    main(lr=0.001, train_style='iterative')\n",
    "    main(lr=0.1, train_style='iterative')\n",
    "\n",
    "    main(lr=0.01, train_style='batch')\n",
    "    main(lr=0.001, train_style='batch')\n",
    "    main(lr=0.1, train_style='batch')"
   ]
  },
  {
   "cell_type": "code",
   "execution_count": 75,
   "id": "2fe2bcce",
   "metadata": {
    "scrolled": true
   },
   "outputs": [
    {
     "name": "stdout",
     "output_type": "stream",
     "text": [
      "\u001b[5m\u001b[33m==================STARTING EXPERIMENT==================\u001b[0m\n",
      "\u001b[5m\u001b[35m################# TRAINING #################\u001b[0m\n",
      "\u001b[5m\u001b[35m\tARCH: [4 for _ in range(2)] LR: 0.01\u001b[0m\n",
      "\u001b[5m\u001b[35m############################################\n",
      "\u001b[0m\n"
     ]
    },
    {
     "data": {
      "application/vnd.jupyter.widget-view+json": {
       "model_id": "393ee3a4a49f4491bbd7d1268cae3ea3",
       "version_major": 2,
       "version_minor": 0
      },
      "text/plain": [
       "  0%|          | 0/10 [00:00<?, ?it/s]"
      ]
     },
     "metadata": {},
     "output_type": "display_data"
    },
    {
     "name": "stdout",
     "output_type": "stream",
     "text": [
      "============================= COMPLETE =============================\n",
      "------ ARCH: [4 for _ in range(2)] LR: 0.01 CONVERGENCE------\n",
      "****** Adam ******\n",
      "Dead Neurons: 0.50\tDead Layers: 2.000\tTraining Time: 0.681\n",
      "\n",
      "\n",
      "****** SGD ******\n",
      "Dead Neurons: 0.00\tDead Layers: 2.000\tTraining Time: 0.431\n",
      "\n",
      "\n",
      "============================= COMPLETE =============================\n",
      "\n",
      "\n",
      "\n",
      "\n",
      "============================= COMPLETE =============================\n",
      "------ ARCH: [4 for _ in range(2)] LR: 0.01 NO CONVERGENCE------\n",
      "****** Adam ******\n",
      "Dead Neurons: 2.50\tDead Layers: 2.000\tTraining Time: 0.673\n",
      "\n",
      "\n",
      "****** SGD ******\n",
      "Dead Neurons: 2.14\tDead Layers: 2.000\tTraining Time: 0.434\n",
      "\n",
      "\n",
      "============================= COMPLETE =============================\n",
      "\n",
      "\n",
      "\n",
      "\n",
      "\u001b[5m\u001b[35m################# TRAINING #################\u001b[0m\n",
      "\u001b[5m\u001b[35m\tARCH: [4 for _ in range(5)] LR: 0.01\u001b[0m\n",
      "\u001b[5m\u001b[35m############################################\n",
      "\u001b[0m\n"
     ]
    },
    {
     "data": {
      "application/vnd.jupyter.widget-view+json": {
       "model_id": "5b31db3766f44ff9810960a8907ca4c4",
       "version_major": 2,
       "version_minor": 0
      },
      "text/plain": [
       "  0%|          | 0/10 [00:00<?, ?it/s]"
      ]
     },
     "metadata": {},
     "output_type": "display_data"
    },
    {
     "name": "stdout",
     "output_type": "stream",
     "text": [
      "============================= COMPLETE =============================\n",
      "------ ARCH: [4 for _ in range(5)] LR: 0.01 CONVERGENCE------\n",
      "****** Adam ******\n",
      "Dead Neurons: 3.86\tDead Layers: 5.000\tTraining Time: 1.185\n",
      "\n",
      "\n",
      "****** SGD ******\n",
      "Dead Neurons: 4.17\tDead Layers: 5.000\tTraining Time: 0.733\n",
      "\n",
      "\n",
      "============================= COMPLETE =============================\n",
      "\n",
      "\n",
      "\n",
      "\n",
      "============================= COMPLETE =============================\n",
      "------ ARCH: [4 for _ in range(5)] LR: 0.01 NO CONVERGENCE------\n",
      "****** Adam ******\n",
      "Dead Neurons: 4.33\tDead Layers: 5.000\tTraining Time: 1.217\n",
      "\n",
      "\n",
      "****** SGD ******\n",
      "Dead Neurons: 2.75\tDead Layers: 5.000\tTraining Time: 0.745\n",
      "\n",
      "\n",
      "============================= COMPLETE =============================\n",
      "\n",
      "\n",
      "\n",
      "\n",
      "\u001b[5m\u001b[35m################# TRAINING #################\u001b[0m\n",
      "\u001b[5m\u001b[35m\tARCH: [4 for _ in range(10)] LR: 0.01\u001b[0m\n",
      "\u001b[5m\u001b[35m############################################\n",
      "\u001b[0m\n"
     ]
    },
    {
     "data": {
      "application/vnd.jupyter.widget-view+json": {
       "model_id": "5de400c6f3fb40d48705dc133c71ca90",
       "version_major": 2,
       "version_minor": 0
      },
      "text/plain": [
       "  0%|          | 0/10 [00:00<?, ?it/s]"
      ]
     },
     "metadata": {},
     "output_type": "display_data"
    },
    {
     "name": "stdout",
     "output_type": "stream",
     "text": [
      "============================= COMPLETE =============================\n",
      "------ ARCH: [4 for _ in range(10)] LR: 0.01 CONVERGENCE------\n",
      "****** Adam ******\n",
      "Dead Neurons: 10.25\tDead Layers: 10.000\tTraining Time: 2.054\n",
      "\n",
      "\n",
      "****** SGD ******\n",
      "Dead Neurons: 7.00\tDead Layers: 10.000\tTraining Time: 1.236\n",
      "\n",
      "\n",
      "============================= COMPLETE =============================\n",
      "\n",
      "\n",
      "\n",
      "\n",
      "============================= COMPLETE =============================\n",
      "------ ARCH: [4 for _ in range(10)] LR: 0.01 NO CONVERGENCE------\n",
      "****** Adam ******\n",
      "Dead Neurons: 15.00\tDead Layers: 10.000\tTraining Time: 2.048\n",
      "\n",
      "\n",
      "****** SGD ******\n",
      "Dead Neurons: 9.33\tDead Layers: 10.000\tTraining Time: 1.239\n",
      "\n",
      "\n",
      "============================= COMPLETE =============================\n",
      "\n",
      "\n",
      "\n",
      "\n",
      "\u001b[5m\u001b[35m################# TRAINING #################\u001b[0m\n",
      "\u001b[5m\u001b[35m\tARCH: [4 for _ in range(15)] LR: 0.01\u001b[0m\n",
      "\u001b[5m\u001b[35m############################################\n",
      "\u001b[0m\n"
     ]
    },
    {
     "data": {
      "application/vnd.jupyter.widget-view+json": {
       "model_id": "0dc7c47a3beb42dd9bc7954efa261461",
       "version_major": 2,
       "version_minor": 0
      },
      "text/plain": [
       "  0%|          | 0/10 [00:00<?, ?it/s]"
      ]
     },
     "metadata": {},
     "output_type": "display_data"
    },
    {
     "name": "stdout",
     "output_type": "stream",
     "text": [
      "============================= COMPLETE =============================\n",
      "------ ARCH: [4 for _ in range(15)] LR: 0.01 CONVERGENCE------\n",
      "****** Adam ******\n",
      "Dead Neurons: 16.12\tDead Layers: 15.000\tTraining Time: 2.925\n",
      "\n",
      "\n",
      "****** SGD ******\n",
      "Dead Neurons: 13.67\tDead Layers: 15.000\tTraining Time: 1.732\n",
      "\n",
      "\n",
      "============================= COMPLETE =============================\n",
      "\n",
      "\n",
      "\n",
      "\n",
      "============================= COMPLETE =============================\n",
      "------ ARCH: [4 for _ in range(15)] LR: 0.01 NO CONVERGENCE------\n",
      "****** Adam ******\n",
      "Dead Neurons: 19.50\tDead Layers: 15.000\tTraining Time: 2.909\n",
      "\n",
      "\n",
      "****** SGD ******\n",
      "Dead Neurons: 15.00\tDead Layers: 15.000\tTraining Time: 1.736\n",
      "\n",
      "\n",
      "============================= COMPLETE =============================\n",
      "\n",
      "\n",
      "\n",
      "\n",
      "\u001b[5m\u001b[35m################# TRAINING #################\u001b[0m\n",
      "\u001b[5m\u001b[35m\tARCH: [4 for _ in range(20)] LR: 0.01\u001b[0m\n",
      "\u001b[5m\u001b[35m############################################\n",
      "\u001b[0m\n"
     ]
    },
    {
     "data": {
      "application/vnd.jupyter.widget-view+json": {
       "model_id": "d3962dd2e53d4836a26f76dee5917ada",
       "version_major": 2,
       "version_minor": 0
      },
      "text/plain": [
       "  0%|          | 0/10 [00:00<?, ?it/s]"
      ]
     },
     "metadata": {},
     "output_type": "display_data"
    },
    {
     "name": "stdout",
     "output_type": "stream",
     "text": [
      "============================= COMPLETE =============================\n",
      "------ ARCH: [4 for _ in range(20)] LR: 0.01 CONVERGENCE------\n",
      "****** Adam ******\n",
      "Dead Neurons: 22.80\tDead Layers: 20.000\tTraining Time: 3.774\n",
      "\n",
      "\n",
      "****** SGD ******\n",
      "Dead Neurons: 17.00\tDead Layers: 20.000\tTraining Time: 2.233\n",
      "\n",
      "\n",
      "============================= COMPLETE =============================\n",
      "\n",
      "\n",
      "\n",
      "\n",
      "============================= COMPLETE =============================\n",
      "------ ARCH: [4 for _ in range(20)] LR: 0.01 NO CONVERGENCE------\n",
      "****** Adam ******\n",
      "Dead Neurons: 30.00\tDead Layers: 20.000\tTraining Time: 3.782\n",
      "\n",
      "\n",
      "****** SGD ******\n",
      "Dead Neurons: 20.40\tDead Layers: 20.000\tTraining Time: 2.231\n",
      "\n",
      "\n",
      "============================= COMPLETE =============================\n",
      "\n",
      "\n",
      "\n",
      "\n",
      "\u001b[5m\u001b[35m################# TRAINING #################\u001b[0m\n",
      "\u001b[5m\u001b[35m\tARCH: [4 for _ in range(25)] LR: 0.01\u001b[0m\n",
      "\u001b[5m\u001b[35m############################################\n",
      "\u001b[0m\n"
     ]
    },
    {
     "data": {
      "application/vnd.jupyter.widget-view+json": {
       "model_id": "80c657cf85154278af66a7bd1d922c8b",
       "version_major": 2,
       "version_minor": 0
      },
      "text/plain": [
       "  0%|          | 0/10 [00:00<?, ?it/s]"
      ]
     },
     "metadata": {},
     "output_type": "display_data"
    },
    {
     "name": "stdout",
     "output_type": "stream",
     "text": [
      "============================= COMPLETE =============================\n",
      "------ ARCH: [4 for _ in range(25)] LR: 0.01 CONVERGENCE------\n",
      "****** Adam ******\n",
      "Dead Neurons: 29.88\tDead Layers: 25.000\tTraining Time: 4.626\n",
      "\n",
      "\n",
      "****** SGD ******\n",
      "Dead Neurons: 22.67\tDead Layers: 25.000\tTraining Time: 2.731\n",
      "\n",
      "\n",
      "============================= COMPLETE =============================\n",
      "\n",
      "\n",
      "\n",
      "\n",
      "============================= COMPLETE =============================\n",
      "------ ARCH: [4 for _ in range(25)] LR: 0.01 NO CONVERGENCE------\n",
      "****** Adam ******\n",
      "Dead Neurons: 31.00\tDead Layers: 25.000\tTraining Time: 4.630\n",
      "\n",
      "\n",
      "****** SGD ******\n",
      "Dead Neurons: 25.00\tDead Layers: 25.000\tTraining Time: 2.718\n",
      "\n",
      "\n",
      "============================= COMPLETE =============================\n",
      "\n",
      "\n",
      "\n",
      "\n",
      "\u001b[5m\u001b[35m################# TRAINING #################\u001b[0m\n",
      "\u001b[5m\u001b[35m\tARCH: [4 for _ in range(30)] LR: 0.01\u001b[0m\n",
      "\u001b[5m\u001b[35m############################################\n",
      "\u001b[0m\n"
     ]
    },
    {
     "data": {
      "application/vnd.jupyter.widget-view+json": {
       "model_id": "41b3b52d8a4447cb9a0731e990fb554e",
       "version_major": 2,
       "version_minor": 0
      },
      "text/plain": [
       "  0%|          | 0/10 [00:00<?, ?it/s]"
      ]
     },
     "metadata": {},
     "output_type": "display_data"
    },
    {
     "name": "stdout",
     "output_type": "stream",
     "text": [
      "============================= COMPLETE =============================\n",
      "------ ARCH: [4 for _ in range(30)] LR: 0.01 CONVERGENCE------\n",
      "****** Adam ******\n",
      "Dead Neurons: 35.29\tDead Layers: 30.000\tTraining Time: 5.496\n",
      "\n",
      "\n",
      "****** SGD ******\n",
      "Dead Neurons: 25.67\tDead Layers: 30.000\tTraining Time: 3.216\n",
      "\n",
      "\n",
      "============================= COMPLETE =============================\n",
      "\n",
      "\n",
      "\n",
      "\n",
      "============================= COMPLETE =============================\n",
      "------ ARCH: [4 for _ in range(30)] LR: 0.01 NO CONVERGENCE------\n",
      "****** Adam ******\n",
      "Dead Neurons: 49.67\tDead Layers: 30.000\tTraining Time: 5.496\n",
      "\n",
      "\n",
      "****** SGD ******\n",
      "Dead Neurons: 31.50\tDead Layers: 30.000\tTraining Time: 3.219\n",
      "\n",
      "\n",
      "============================= COMPLETE =============================\n",
      "\n",
      "\n",
      "\n",
      "\n",
      "\u001b[5m\u001b[33m==================EXPERIMENT COMPLETE ==================\u001b[0m\n",
      "\u001b[5m\u001b[33m==================STARTING EXPERIMENT==================\u001b[0m\n",
      "\u001b[5m\u001b[35m################# TRAINING #################\u001b[0m\n",
      "\u001b[5m\u001b[35m\tARCH: [4 for _ in range(2)] LR: 0.001\u001b[0m\n",
      "\u001b[5m\u001b[35m############################################\n",
      "\u001b[0m\n"
     ]
    },
    {
     "data": {
      "application/vnd.jupyter.widget-view+json": {
       "model_id": "359ad02002d74cef8f724384e8be253e",
       "version_major": 2,
       "version_minor": 0
      },
      "text/plain": [
       "  0%|          | 0/10 [00:00<?, ?it/s]"
      ]
     },
     "metadata": {},
     "output_type": "display_data"
    },
    {
     "name": "stdout",
     "output_type": "stream",
     "text": [
      "============================= COMPLETE =============================\n",
      "------ ARCH: [4 for _ in range(2)] LR: 0.001 CONVERGENCE------\n",
      "****** Adam ******\n",
      "Dead Neurons: 0.00\tDead Layers: 2.000\tTraining Time: 0.692\n",
      "\n",
      "\n",
      "****** SGD ******\n",
      "Dead Neurons: nan\tDead Layers: nan\tTraining Time: nan\n",
      "\n",
      "\n",
      "============================= COMPLETE =============================\n",
      "\n",
      "\n",
      "\n",
      "\n",
      "============================= COMPLETE =============================\n",
      "------ ARCH: [4 for _ in range(2)] LR: 0.001 NO CONVERGENCE------\n",
      "****** Adam ******\n",
      "Dead Neurons: 1.11\tDead Layers: 2.000\tTraining Time: 0.662\n",
      "\n",
      "\n",
      "****** SGD ******\n",
      "Dead Neurons: 0.50\tDead Layers: 2.000\tTraining Time: 0.425\n",
      "\n",
      "\n",
      "============================= COMPLETE =============================\n",
      "\n",
      "\n",
      "\n",
      "\n",
      "\u001b[5m\u001b[35m################# TRAINING #################\u001b[0m\n",
      "\u001b[5m\u001b[35m\tARCH: [4 for _ in range(5)] LR: 0.001\u001b[0m\n",
      "\u001b[5m\u001b[35m############################################\n",
      "\u001b[0m\n"
     ]
    },
    {
     "name": "stderr",
     "output_type": "stream",
     "text": [
      "/Users/matthewernst/miniforge3/lib/python3.9/site-packages/numpy/lib/function_base.py:380: RuntimeWarning: Mean of empty slice.\n",
      "  avg = a.mean(axis)\n",
      "/Users/matthewernst/miniforge3/lib/python3.9/site-packages/numpy/core/_methods.py:170: RuntimeWarning: invalid value encountered in double_scalars\n",
      "  ret = ret.dtype.type(ret / rcount)\n"
     ]
    },
    {
     "data": {
      "application/vnd.jupyter.widget-view+json": {
       "model_id": "fdf62025a8554956baf4d176ae9730b7",
       "version_major": 2,
       "version_minor": 0
      },
      "text/plain": [
       "  0%|          | 0/10 [00:00<?, ?it/s]"
      ]
     },
     "metadata": {},
     "output_type": "display_data"
    },
    {
     "name": "stdout",
     "output_type": "stream",
     "text": [
      "============================= COMPLETE =============================\n",
      "------ ARCH: [4 for _ in range(5)] LR: 0.001 CONVERGENCE------\n",
      "****** Adam ******\n",
      "Dead Neurons: 3.00\tDead Layers: 5.000\tTraining Time: 1.187\n",
      "\n",
      "\n",
      "****** SGD ******\n",
      "Dead Neurons: nan\tDead Layers: nan\tTraining Time: nan\n",
      "\n",
      "\n",
      "============================= COMPLETE =============================\n",
      "\n",
      "\n",
      "\n",
      "\n",
      "============================= COMPLETE =============================\n",
      "------ ARCH: [4 for _ in range(5)] LR: 0.001 NO CONVERGENCE------\n",
      "****** Adam ******\n",
      "Dead Neurons: 4.14\tDead Layers: 5.000\tTraining Time: 1.185\n",
      "\n",
      "\n",
      "****** SGD ******\n",
      "Dead Neurons: 3.40\tDead Layers: 5.000\tTraining Time: 0.736\n",
      "\n",
      "\n",
      "============================= COMPLETE =============================\n",
      "\n",
      "\n",
      "\n",
      "\n",
      "\u001b[5m\u001b[35m################# TRAINING #################\u001b[0m\n",
      "\u001b[5m\u001b[35m\tARCH: [4 for _ in range(10)] LR: 0.001\u001b[0m\n",
      "\u001b[5m\u001b[35m############################################\n",
      "\u001b[0m\n"
     ]
    },
    {
     "data": {
      "application/vnd.jupyter.widget-view+json": {
       "model_id": "f38657724b8147da8452053f0ab186c3",
       "version_major": 2,
       "version_minor": 0
      },
      "text/plain": [
       "  0%|          | 0/10 [00:00<?, ?it/s]"
      ]
     },
     "metadata": {},
     "output_type": "display_data"
    },
    {
     "name": "stdout",
     "output_type": "stream",
     "text": [
      "============================= COMPLETE =============================\n",
      "------ ARCH: [4 for _ in range(10)] LR: 0.001 CONVERGENCE------\n",
      "****** Adam ******\n",
      "Dead Neurons: 7.00\tDead Layers: 10.000\tTraining Time: 2.057\n",
      "\n",
      "\n",
      "****** SGD ******\n",
      "Dead Neurons: nan\tDead Layers: nan\tTraining Time: nan\n",
      "\n",
      "\n",
      "============================= COMPLETE =============================\n",
      "\n",
      "\n",
      "\n",
      "\n",
      "============================= COMPLETE =============================\n",
      "------ ARCH: [4 for _ in range(10)] LR: 0.001 NO CONVERGENCE------\n",
      "****** Adam ******\n",
      "Dead Neurons: 9.83\tDead Layers: 10.000\tTraining Time: 2.051\n",
      "\n",
      "\n",
      "****** SGD ******\n",
      "Dead Neurons: 8.50\tDead Layers: 10.000\tTraining Time: 1.240\n",
      "\n",
      "\n",
      "============================= COMPLETE =============================\n",
      "\n",
      "\n",
      "\n",
      "\n",
      "\u001b[5m\u001b[35m################# TRAINING #################\u001b[0m\n",
      "\u001b[5m\u001b[35m\tARCH: [4 for _ in range(15)] LR: 0.001\u001b[0m\n",
      "\u001b[5m\u001b[35m############################################\n",
      "\u001b[0m\n"
     ]
    },
    {
     "data": {
      "application/vnd.jupyter.widget-view+json": {
       "model_id": "26aab743fffe4bd5ac54b300e91ca41d",
       "version_major": 2,
       "version_minor": 0
      },
      "text/plain": [
       "  0%|          | 0/10 [00:00<?, ?it/s]"
      ]
     },
     "metadata": {},
     "output_type": "display_data"
    },
    {
     "name": "stdout",
     "output_type": "stream",
     "text": [
      "============================= COMPLETE =============================\n",
      "------ ARCH: [4 for _ in range(15)] LR: 0.001 CONVERGENCE------\n",
      "****** Adam ******\n",
      "Dead Neurons: 12.33\tDead Layers: 15.000\tTraining Time: 2.922\n",
      "\n",
      "\n",
      "****** SGD ******\n",
      "Dead Neurons: nan\tDead Layers: nan\tTraining Time: nan\n",
      "\n",
      "\n",
      "============================= COMPLETE =============================\n",
      "\n",
      "\n",
      "\n",
      "\n",
      "============================= COMPLETE =============================\n",
      "------ ARCH: [4 for _ in range(15)] LR: 0.001 NO CONVERGENCE------\n",
      "****** Adam ******\n",
      "Dead Neurons: 16.57\tDead Layers: 15.000\tTraining Time: 2.919\n",
      "\n",
      "\n",
      "****** SGD ******\n",
      "Dead Neurons: 13.60\tDead Layers: 15.000\tTraining Time: 1.735\n",
      "\n",
      "\n",
      "============================= COMPLETE =============================\n",
      "\n",
      "\n",
      "\n",
      "\n",
      "\u001b[5m\u001b[35m################# TRAINING #################\u001b[0m\n",
      "\u001b[5m\u001b[35m\tARCH: [4 for _ in range(20)] LR: 0.001\u001b[0m\n",
      "\u001b[5m\u001b[35m############################################\n",
      "\u001b[0m\n"
     ]
    },
    {
     "data": {
      "application/vnd.jupyter.widget-view+json": {
       "model_id": "2b5ef4d913e04522879c35deee7c8137",
       "version_major": 2,
       "version_minor": 0
      },
      "text/plain": [
       "  0%|          | 0/10 [00:00<?, ?it/s]"
      ]
     },
     "metadata": {},
     "output_type": "display_data"
    },
    {
     "name": "stdout",
     "output_type": "stream",
     "text": [
      "============================= COMPLETE =============================\n",
      "------ ARCH: [4 for _ in range(20)] LR: 0.001 CONVERGENCE------\n",
      "****** Adam ******\n",
      "Dead Neurons: 18.25\tDead Layers: 20.000\tTraining Time: 3.777\n",
      "\n",
      "\n",
      "****** SGD ******\n",
      "Dead Neurons: nan\tDead Layers: nan\tTraining Time: nan\n",
      "\n",
      "\n",
      "============================= COMPLETE =============================\n",
      "\n",
      "\n",
      "\n",
      "\n",
      "============================= COMPLETE =============================\n",
      "------ ARCH: [4 for _ in range(20)] LR: 0.001 NO CONVERGENCE------\n",
      "****** Adam ******\n",
      "Dead Neurons: 17.83\tDead Layers: 20.000\tTraining Time: 3.784\n",
      "\n",
      "\n",
      "****** SGD ******\n",
      "Dead Neurons: 18.10\tDead Layers: 20.000\tTraining Time: 2.232\n",
      "\n",
      "\n",
      "============================= COMPLETE =============================\n",
      "\n",
      "\n",
      "\n",
      "\n",
      "\u001b[5m\u001b[35m################# TRAINING #################\u001b[0m\n",
      "\u001b[5m\u001b[35m\tARCH: [4 for _ in range(25)] LR: 0.001\u001b[0m\n",
      "\u001b[5m\u001b[35m############################################\n",
      "\u001b[0m\n"
     ]
    },
    {
     "data": {
      "application/vnd.jupyter.widget-view+json": {
       "model_id": "71f7caba52ea4af283689addb65ac0f5",
       "version_major": 2,
       "version_minor": 0
      },
      "text/plain": [
       "  0%|          | 0/10 [00:00<?, ?it/s]"
      ]
     },
     "metadata": {},
     "output_type": "display_data"
    },
    {
     "name": "stdout",
     "output_type": "stream",
     "text": [
      "============================= COMPLETE =============================\n",
      "------ ARCH: [4 for _ in range(25)] LR: 0.001 CONVERGENCE------\n",
      "****** Adam ******\n",
      "Dead Neurons: 21.67\tDead Layers: 25.000\tTraining Time: 4.742\n",
      "\n",
      "\n",
      "****** SGD ******\n",
      "Dead Neurons: nan\tDead Layers: nan\tTraining Time: nan\n",
      "\n",
      "\n",
      "============================= COMPLETE =============================\n",
      "\n",
      "\n",
      "\n",
      "\n",
      "============================= COMPLETE =============================\n",
      "------ ARCH: [4 for _ in range(25)] LR: 0.001 NO CONVERGENCE------\n",
      "****** Adam ******\n",
      "Dead Neurons: 25.43\tDead Layers: 25.000\tTraining Time: 4.770\n",
      "\n",
      "\n",
      "****** SGD ******\n",
      "Dead Neurons: 24.90\tDead Layers: 25.000\tTraining Time: 2.800\n",
      "\n",
      "\n",
      "============================= COMPLETE =============================\n",
      "\n",
      "\n",
      "\n",
      "\n",
      "\u001b[5m\u001b[35m################# TRAINING #################\u001b[0m\n",
      "\u001b[5m\u001b[35m\tARCH: [4 for _ in range(30)] LR: 0.001\u001b[0m\n",
      "\u001b[5m\u001b[35m############################################\n",
      "\u001b[0m\n"
     ]
    },
    {
     "data": {
      "application/vnd.jupyter.widget-view+json": {
       "model_id": "d96acefc13f846a495c2ea43615272ec",
       "version_major": 2,
       "version_minor": 0
      },
      "text/plain": [
       "  0%|          | 0/10 [00:00<?, ?it/s]"
      ]
     },
     "metadata": {},
     "output_type": "display_data"
    },
    {
     "name": "stdout",
     "output_type": "stream",
     "text": [
      "============================= COMPLETE =============================\n",
      "------ ARCH: [4 for _ in range(30)] LR: 0.001 CONVERGENCE------\n",
      "****** Adam ******\n",
      "Dead Neurons: 26.67\tDead Layers: 30.000\tTraining Time: 43.196\n",
      "\n",
      "\n",
      "****** SGD ******\n",
      "Dead Neurons: 29.00\tDead Layers: 30.000\tTraining Time: 3.792\n",
      "\n",
      "\n",
      "============================= COMPLETE =============================\n",
      "\n",
      "\n",
      "\n",
      "\n",
      "============================= COMPLETE =============================\n",
      "------ ARCH: [4 for _ in range(30)] LR: 0.001 NO CONVERGENCE------\n",
      "****** Adam ******\n",
      "Dead Neurons: 28.57\tDead Layers: 30.000\tTraining Time: 6.522\n",
      "\n",
      "\n",
      "****** SGD ******\n",
      "Dead Neurons: 32.22\tDead Layers: 30.000\tTraining Time: 4.382\n",
      "\n",
      "\n",
      "============================= COMPLETE =============================\n",
      "\n",
      "\n",
      "\n",
      "\n",
      "\u001b[5m\u001b[33m==================EXPERIMENT COMPLETE ==================\u001b[0m\n",
      "\u001b[5m\u001b[33m==================STARTING EXPERIMENT==================\u001b[0m\n",
      "\u001b[5m\u001b[35m################# TRAINING #################\u001b[0m\n",
      "\u001b[5m\u001b[35m\tARCH: [4 for _ in range(2)] LR: 0.1\u001b[0m\n",
      "\u001b[5m\u001b[35m############################################\n",
      "\u001b[0m\n"
     ]
    },
    {
     "data": {
      "application/vnd.jupyter.widget-view+json": {
       "model_id": "8770c709ca8349cba0116cc2a1ca8fc1",
       "version_major": 2,
       "version_minor": 0
      },
      "text/plain": [
       "  0%|          | 0/10 [00:00<?, ?it/s]"
      ]
     },
     "metadata": {},
     "output_type": "display_data"
    },
    {
     "name": "stdout",
     "output_type": "stream",
     "text": [
      "============================= COMPLETE =============================\n",
      "------ ARCH: [4 for _ in range(2)] LR: 0.1 CONVERGENCE------\n",
      "****** Adam ******\n",
      "Dead Neurons: nan\tDead Layers: nan\tTraining Time: nan\n",
      "\n",
      "\n",
      "****** SGD ******\n",
      "Dead Neurons: 0.00\tDead Layers: 2.000\tTraining Time: 0.879\n",
      "\n",
      "\n",
      "============================= COMPLETE =============================\n",
      "\n",
      "\n",
      "\n",
      "\n",
      "============================= COMPLETE =============================\n",
      "------ ARCH: [4 for _ in range(2)] LR: 0.1 NO CONVERGENCE------\n",
      "****** Adam ******\n",
      "Dead Neurons: 2.90\tDead Layers: 2.000\tTraining Time: 1.368\n",
      "\n",
      "\n",
      "****** SGD ******\n",
      "Dead Neurons: 1.62\tDead Layers: 2.000\tTraining Time: 2.862\n",
      "\n",
      "\n",
      "============================= COMPLETE =============================\n",
      "\n",
      "\n",
      "\n",
      "\n",
      "\u001b[5m\u001b[35m################# TRAINING #################\u001b[0m\n",
      "\u001b[5m\u001b[35m\tARCH: [4 for _ in range(5)] LR: 0.1\u001b[0m\n",
      "\u001b[5m\u001b[35m############################################\n",
      "\u001b[0m\n"
     ]
    },
    {
     "data": {
      "application/vnd.jupyter.widget-view+json": {
       "model_id": "ba96f8d62f56470e9cf1919d61cfe682",
       "version_major": 2,
       "version_minor": 0
      },
      "text/plain": [
       "  0%|          | 0/10 [00:00<?, ?it/s]"
      ]
     },
     "metadata": {},
     "output_type": "display_data"
    },
    {
     "name": "stdout",
     "output_type": "stream",
     "text": [
      "============================= COMPLETE =============================\n",
      "------ ARCH: [4 for _ in range(5)] LR: 0.1 CONVERGENCE------\n",
      "****** Adam ******\n",
      "Dead Neurons: nan\tDead Layers: nan\tTraining Time: nan\n",
      "\n",
      "\n",
      "****** SGD ******\n",
      "Dead Neurons: 5.50\tDead Layers: 5.000\tTraining Time: 1.124\n",
      "\n",
      "\n",
      "============================= COMPLETE =============================\n",
      "\n",
      "\n",
      "\n",
      "\n",
      "============================= COMPLETE =============================\n",
      "------ ARCH: [4 for _ in range(5)] LR: 0.1 NO CONVERGENCE------\n",
      "****** Adam ******\n",
      "Dead Neurons: 9.10\tDead Layers: 5.000\tTraining Time: 2.213\n",
      "\n",
      "\n",
      "****** SGD ******\n",
      "Dead Neurons: 6.62\tDead Layers: 5.000\tTraining Time: 1.414\n",
      "\n",
      "\n",
      "============================= COMPLETE =============================\n",
      "\n",
      "\n",
      "\n",
      "\n",
      "\u001b[5m\u001b[35m################# TRAINING #################\u001b[0m\n",
      "\u001b[5m\u001b[35m\tARCH: [4 for _ in range(10)] LR: 0.1\u001b[0m\n",
      "\u001b[5m\u001b[35m############################################\n",
      "\u001b[0m\n"
     ]
    },
    {
     "data": {
      "application/vnd.jupyter.widget-view+json": {
       "model_id": "cfeda1ad4a5d4693b8d10f23ff40bcba",
       "version_major": 2,
       "version_minor": 0
      },
      "text/plain": [
       "  0%|          | 0/10 [00:00<?, ?it/s]"
      ]
     },
     "metadata": {},
     "output_type": "display_data"
    },
    {
     "name": "stdout",
     "output_type": "stream",
     "text": [
      "============================= COMPLETE =============================\n",
      "------ ARCH: [4 for _ in range(10)] LR: 0.1 CONVERGENCE------\n",
      "****** Adam ******\n",
      "Dead Neurons: nan\tDead Layers: nan\tTraining Time: nan\n",
      "\n",
      "\n",
      "****** SGD ******\n",
      "Dead Neurons: 10.50\tDead Layers: 10.000\tTraining Time: 2.563\n",
      "\n",
      "\n",
      "============================= COMPLETE =============================\n",
      "\n",
      "\n",
      "\n",
      "\n",
      "============================= COMPLETE =============================\n",
      "------ ARCH: [4 for _ in range(10)] LR: 0.1 NO CONVERGENCE------\n",
      "****** Adam ******\n",
      "Dead Neurons: 19.30\tDead Layers: 10.000\tTraining Time: 4.264\n",
      "\n",
      "\n",
      "****** SGD ******\n",
      "Dead Neurons: 13.75\tDead Layers: 10.000\tTraining Time: 2.566\n",
      "\n",
      "\n",
      "============================= COMPLETE =============================\n",
      "\n",
      "\n",
      "\n",
      "\n",
      "\u001b[5m\u001b[35m################# TRAINING #################\u001b[0m\n",
      "\u001b[5m\u001b[35m\tARCH: [4 for _ in range(15)] LR: 0.1\u001b[0m\n",
      "\u001b[5m\u001b[35m############################################\n",
      "\u001b[0m\n"
     ]
    },
    {
     "data": {
      "application/vnd.jupyter.widget-view+json": {
       "model_id": "4f94e4f4b9e449118894936063cef6c4",
       "version_major": 2,
       "version_minor": 0
      },
      "text/plain": [
       "  0%|          | 0/10 [00:00<?, ?it/s]"
      ]
     },
     "metadata": {},
     "output_type": "display_data"
    },
    {
     "name": "stdout",
     "output_type": "stream",
     "text": [
      "============================= COMPLETE =============================\n",
      "------ ARCH: [4 for _ in range(15)] LR: 0.1 CONVERGENCE------\n",
      "****** Adam ******\n",
      "Dead Neurons: nan\tDead Layers: nan\tTraining Time: nan\n",
      "\n",
      "\n",
      "****** SGD ******\n",
      "Dead Neurons: 16.67\tDead Layers: 15.000\tTraining Time: 1.759\n",
      "\n",
      "\n",
      "============================= COMPLETE =============================\n",
      "\n",
      "\n",
      "\n",
      "\n",
      "============================= COMPLETE =============================\n",
      "------ ARCH: [4 for _ in range(15)] LR: 0.1 NO CONVERGENCE------\n",
      "****** Adam ******\n",
      "Dead Neurons: 29.10\tDead Layers: 15.000\tTraining Time: 3.619\n",
      "\n",
      "\n",
      "****** SGD ******\n",
      "Dead Neurons: 19.43\tDead Layers: 15.000\tTraining Time: 11.423\n",
      "\n",
      "\n",
      "============================= COMPLETE =============================\n",
      "\n",
      "\n",
      "\n",
      "\n",
      "\u001b[5m\u001b[35m################# TRAINING #################\u001b[0m\n",
      "\u001b[5m\u001b[35m\tARCH: [4 for _ in range(20)] LR: 0.1\u001b[0m\n",
      "\u001b[5m\u001b[35m############################################\n",
      "\u001b[0m\n"
     ]
    },
    {
     "data": {
      "application/vnd.jupyter.widget-view+json": {
       "model_id": "94e7a798a84245988fb21c26403191e0",
       "version_major": 2,
       "version_minor": 0
      },
      "text/plain": [
       "  0%|          | 0/10 [00:00<?, ?it/s]"
      ]
     },
     "metadata": {},
     "output_type": "display_data"
    },
    {
     "name": "stdout",
     "output_type": "stream",
     "text": [
      "============================= COMPLETE =============================\n",
      "------ ARCH: [4 for _ in range(20)] LR: 0.1 CONVERGENCE------\n",
      "****** Adam ******\n",
      "Dead Neurons: nan\tDead Layers: nan\tTraining Time: nan\n",
      "\n",
      "\n",
      "****** SGD ******\n",
      "Dead Neurons: 21.50\tDead Layers: 20.000\tTraining Time: 2.269\n",
      "\n",
      "\n",
      "============================= COMPLETE =============================\n",
      "\n",
      "\n",
      "\n",
      "\n",
      "============================= COMPLETE =============================\n",
      "------ ARCH: [4 for _ in range(20)] LR: 0.1 NO CONVERGENCE------\n",
      "****** Adam ******\n",
      "Dead Neurons: 39.10\tDead Layers: 20.000\tTraining Time: 5.520\n",
      "\n",
      "\n",
      "****** SGD ******\n",
      "Dead Neurons: 26.62\tDead Layers: 20.000\tTraining Time: 2.235\n",
      "\n",
      "\n",
      "============================= COMPLETE =============================\n",
      "\n",
      "\n",
      "\n",
      "\n",
      "\u001b[5m\u001b[35m################# TRAINING #################\u001b[0m\n",
      "\u001b[5m\u001b[35m\tARCH: [4 for _ in range(25)] LR: 0.1\u001b[0m\n",
      "\u001b[5m\u001b[35m############################################\n",
      "\u001b[0m\n"
     ]
    },
    {
     "data": {
      "application/vnd.jupyter.widget-view+json": {
       "model_id": "49258e64f7e747c48a20bf9269879cf5",
       "version_major": 2,
       "version_minor": 0
      },
      "text/plain": [
       "  0%|          | 0/10 [00:00<?, ?it/s]"
      ]
     },
     "metadata": {},
     "output_type": "display_data"
    },
    {
     "name": "stdout",
     "output_type": "stream",
     "text": [
      "============================= COMPLETE =============================\n",
      "------ ARCH: [4 for _ in range(25)] LR: 0.1 CONVERGENCE------\n",
      "****** Adam ******\n",
      "Dead Neurons: nan\tDead Layers: nan\tTraining Time: nan\n",
      "\n",
      "\n",
      "****** SGD ******\n",
      "Dead Neurons: 26.00\tDead Layers: 25.000\tTraining Time: 2.731\n",
      "\n",
      "\n",
      "============================= COMPLETE =============================\n",
      "\n",
      "\n",
      "\n",
      "\n",
      "============================= COMPLETE =============================\n",
      "------ ARCH: [4 for _ in range(25)] LR: 0.1 NO CONVERGENCE------\n",
      "****** Adam ******\n",
      "Dead Neurons: 49.40\tDead Layers: 25.000\tTraining Time: 8.713\n",
      "\n",
      "\n",
      "****** SGD ******\n",
      "Dead Neurons: 35.17\tDead Layers: 25.000\tTraining Time: 2.729\n",
      "\n",
      "\n",
      "============================= COMPLETE =============================\n",
      "\n",
      "\n",
      "\n",
      "\n",
      "\u001b[5m\u001b[35m################# TRAINING #################\u001b[0m\n",
      "\u001b[5m\u001b[35m\tARCH: [4 for _ in range(30)] LR: 0.1\u001b[0m\n",
      "\u001b[5m\u001b[35m############################################\n",
      "\u001b[0m\n"
     ]
    },
    {
     "data": {
      "application/vnd.jupyter.widget-view+json": {
       "model_id": "9e0c6540f960435a9e8a153352401abd",
       "version_major": 2,
       "version_minor": 0
      },
      "text/plain": [
       "  0%|          | 0/10 [00:00<?, ?it/s]"
      ]
     },
     "metadata": {},
     "output_type": "display_data"
    },
    {
     "name": "stdout",
     "output_type": "stream",
     "text": [
      "============================= COMPLETE =============================\n",
      "------ ARCH: [4 for _ in range(30)] LR: 0.1 CONVERGENCE------\n",
      "****** Adam ******\n",
      "Dead Neurons: nan\tDead Layers: nan\tTraining Time: nan\n",
      "\n",
      "\n",
      "****** SGD ******\n",
      "Dead Neurons: 31.67\tDead Layers: 30.000\tTraining Time: 3.243\n",
      "\n",
      "\n",
      "============================= COMPLETE =============================\n",
      "\n",
      "\n",
      "\n",
      "\n",
      "============================= COMPLETE =============================\n",
      "------ ARCH: [4 for _ in range(30)] LR: 0.1 NO CONVERGENCE------\n",
      "****** Adam ******\n",
      "Dead Neurons: 59.10\tDead Layers: 30.000\tTraining Time: 8.194\n",
      "\n",
      "\n",
      "****** SGD ******\n",
      "Dead Neurons: 38.57\tDead Layers: 30.000\tTraining Time: 3.237\n",
      "\n",
      "\n",
      "============================= COMPLETE =============================\n",
      "\n",
      "\n",
      "\n",
      "\n",
      "\u001b[5m\u001b[33m==================EXPERIMENT COMPLETE ==================\u001b[0m\n",
      "\u001b[5m\u001b[33m==================STARTING EXPERIMENT==================\u001b[0m\n",
      "\u001b[5m\u001b[35m################# TRAINING #################\u001b[0m\n",
      "\u001b[5m\u001b[35m\tARCH: [4 for _ in range(2)] LR: 0.01\u001b[0m\n",
      "\u001b[5m\u001b[35m############################################\n",
      "\u001b[0m\n"
     ]
    },
    {
     "data": {
      "application/vnd.jupyter.widget-view+json": {
       "model_id": "147ced876f2444dab8336e6c28ff0968",
       "version_major": 2,
       "version_minor": 0
      },
      "text/plain": [
       "  0%|          | 0/10 [00:00<?, ?it/s]"
      ]
     },
     "metadata": {},
     "output_type": "display_data"
    },
    {
     "name": "stdout",
     "output_type": "stream",
     "text": [
      "============================= COMPLETE =============================\n",
      "------ ARCH: [4 for _ in range(2)] LR: 0.01 CONVERGENCE------\n",
      "****** Adam ******\n",
      "Dead Neurons: 1.00\tDead Layers: 2.000\tTraining Time: 0.652\n",
      "\n",
      "\n",
      "****** SGD ******\n",
      "Dead Neurons: 0.20\tDead Layers: 2.000\tTraining Time: 0.421\n",
      "\n",
      "\n",
      "============================= COMPLETE =============================\n",
      "\n",
      "\n",
      "\n",
      "\n",
      "============================= COMPLETE =============================\n",
      "------ ARCH: [4 for _ in range(2)] LR: 0.01 NO CONVERGENCE------\n",
      "****** Adam ******\n",
      "Dead Neurons: 2.00\tDead Layers: 2.000\tTraining Time: 0.657\n",
      "\n",
      "\n",
      "****** SGD ******\n",
      "Dead Neurons: 1.80\tDead Layers: 2.000\tTraining Time: 0.437\n",
      "\n",
      "\n",
      "============================= COMPLETE =============================\n",
      "\n",
      "\n",
      "\n",
      "\n",
      "\u001b[5m\u001b[35m################# TRAINING #################\u001b[0m\n",
      "\u001b[5m\u001b[35m\tARCH: [4 for _ in range(5)] LR: 0.01\u001b[0m\n",
      "\u001b[5m\u001b[35m############################################\n",
      "\u001b[0m\n"
     ]
    },
    {
     "data": {
      "application/vnd.jupyter.widget-view+json": {
       "model_id": "5f616140a594476a90868c0a290030be",
       "version_major": 2,
       "version_minor": 0
      },
      "text/plain": [
       "  0%|          | 0/10 [00:00<?, ?it/s]"
      ]
     },
     "metadata": {},
     "output_type": "display_data"
    },
    {
     "name": "stdout",
     "output_type": "stream",
     "text": [
      "============================= COMPLETE =============================\n",
      "------ ARCH: [4 for _ in range(5)] LR: 0.01 CONVERGENCE------\n",
      "****** Adam ******\n",
      "Dead Neurons: 3.33\tDead Layers: 5.000\tTraining Time: 1.188\n",
      "\n",
      "\n",
      "****** SGD ******\n",
      "Dead Neurons: 3.60\tDead Layers: 5.000\tTraining Time: 0.723\n",
      "\n",
      "\n",
      "============================= COMPLETE =============================\n",
      "\n",
      "\n",
      "\n",
      "\n",
      "============================= COMPLETE =============================\n",
      "------ ARCH: [4 for _ in range(5)] LR: 0.01 NO CONVERGENCE------\n",
      "****** Adam ******\n",
      "Dead Neurons: 5.29\tDead Layers: 5.000\tTraining Time: 1.178\n",
      "\n",
      "\n",
      "****** SGD ******\n",
      "Dead Neurons: 5.00\tDead Layers: 5.000\tTraining Time: 0.723\n",
      "\n",
      "\n",
      "============================= COMPLETE =============================\n",
      "\n",
      "\n",
      "\n",
      "\n",
      "\u001b[5m\u001b[35m################# TRAINING #################\u001b[0m\n",
      "\u001b[5m\u001b[35m\tARCH: [4 for _ in range(10)] LR: 0.01\u001b[0m\n",
      "\u001b[5m\u001b[35m############################################\n",
      "\u001b[0m\n"
     ]
    },
    {
     "data": {
      "application/vnd.jupyter.widget-view+json": {
       "model_id": "a557f92468b548d492fd636cb1abfdf6",
       "version_major": 2,
       "version_minor": 0
      },
      "text/plain": [
       "  0%|          | 0/10 [00:00<?, ?it/s]"
      ]
     },
     "metadata": {},
     "output_type": "display_data"
    },
    {
     "name": "stdout",
     "output_type": "stream",
     "text": [
      "============================= COMPLETE =============================\n",
      "------ ARCH: [4 for _ in range(10)] LR: 0.01 CONVERGENCE------\n",
      "****** Adam ******\n",
      "Dead Neurons: 9.17\tDead Layers: 10.000\tTraining Time: 2.212\n",
      "\n",
      "\n",
      "****** SGD ******\n",
      "Dead Neurons: 7.33\tDead Layers: 10.000\tTraining Time: 1.245\n",
      "\n",
      "\n",
      "============================= COMPLETE =============================\n",
      "\n",
      "\n",
      "\n",
      "\n",
      "============================= COMPLETE =============================\n",
      "------ ARCH: [4 for _ in range(10)] LR: 0.01 NO CONVERGENCE------\n",
      "****** Adam ******\n",
      "Dead Neurons: 12.75\tDead Layers: 10.000\tTraining Time: 2.058\n",
      "\n",
      "\n",
      "****** SGD ******\n",
      "Dead Neurons: 9.29\tDead Layers: 10.000\tTraining Time: 1.250\n",
      "\n",
      "\n",
      "============================= COMPLETE =============================\n",
      "\n",
      "\n",
      "\n",
      "\n",
      "\u001b[5m\u001b[35m################# TRAINING #################\u001b[0m\n",
      "\u001b[5m\u001b[35m\tARCH: [4 for _ in range(15)] LR: 0.01\u001b[0m\n",
      "\u001b[5m\u001b[35m############################################\n",
      "\u001b[0m\n"
     ]
    },
    {
     "data": {
      "application/vnd.jupyter.widget-view+json": {
       "model_id": "d5de2d21290c4a1d81ea10e5cc54f180",
       "version_major": 2,
       "version_minor": 0
      },
      "text/plain": [
       "  0%|          | 0/10 [00:00<?, ?it/s]"
      ]
     },
     "metadata": {},
     "output_type": "display_data"
    },
    {
     "name": "stdout",
     "output_type": "stream",
     "text": [
      "============================= COMPLETE =============================\n",
      "------ ARCH: [4 for _ in range(15)] LR: 0.01 CONVERGENCE------\n",
      "****** Adam ******\n",
      "Dead Neurons: 14.33\tDead Layers: 15.000\tTraining Time: 2.931\n",
      "\n",
      "\n",
      "****** SGD ******\n",
      "Dead Neurons: 14.17\tDead Layers: 15.000\tTraining Time: 1.768\n",
      "\n",
      "\n",
      "============================= COMPLETE =============================\n",
      "\n",
      "\n",
      "\n",
      "\n",
      "============================= COMPLETE =============================\n",
      "------ ARCH: [4 for _ in range(15)] LR: 0.01 NO CONVERGENCE------\n",
      "****** Adam ******\n",
      "Dead Neurons: 16.00\tDead Layers: 15.000\tTraining Time: 3.056\n",
      "\n",
      "\n",
      "****** SGD ******\n",
      "Dead Neurons: 13.75\tDead Layers: 15.000\tTraining Time: 1.759\n",
      "\n",
      "\n",
      "============================= COMPLETE =============================\n",
      "\n",
      "\n",
      "\n",
      "\n",
      "\u001b[5m\u001b[35m################# TRAINING #################\u001b[0m\n",
      "\u001b[5m\u001b[35m\tARCH: [4 for _ in range(20)] LR: 0.01\u001b[0m\n",
      "\u001b[5m\u001b[35m############################################\n",
      "\u001b[0m\n"
     ]
    },
    {
     "data": {
      "application/vnd.jupyter.widget-view+json": {
       "model_id": "019f41058a034a08b1fa914de8a5350d",
       "version_major": 2,
       "version_minor": 0
      },
      "text/plain": [
       "  0%|          | 0/10 [00:00<?, ?it/s]"
      ]
     },
     "metadata": {},
     "output_type": "display_data"
    },
    {
     "name": "stdout",
     "output_type": "stream",
     "text": [
      "============================= COMPLETE =============================\n",
      "------ ARCH: [4 for _ in range(20)] LR: 0.01 CONVERGENCE------\n",
      "****** Adam ******\n",
      "Dead Neurons: 19.20\tDead Layers: 20.000\tTraining Time: 4.828\n",
      "\n",
      "\n",
      "****** SGD ******\n",
      "Dead Neurons: 20.00\tDead Layers: 20.000\tTraining Time: 7.761\n",
      "\n",
      "\n",
      "============================= COMPLETE =============================\n",
      "\n",
      "\n",
      "\n",
      "\n",
      "============================= COMPLETE =============================\n",
      "------ ARCH: [4 for _ in range(20)] LR: 0.01 NO CONVERGENCE------\n",
      "****** Adam ******\n",
      "Dead Neurons: 24.20\tDead Layers: 20.000\tTraining Time: 9.459\n",
      "\n",
      "\n",
      "****** SGD ******\n",
      "Dead Neurons: 21.00\tDead Layers: 20.000\tTraining Time: 3.766\n",
      "\n",
      "\n",
      "============================= COMPLETE =============================\n",
      "\n",
      "\n",
      "\n",
      "\n",
      "\u001b[5m\u001b[35m################# TRAINING #################\u001b[0m\n",
      "\u001b[5m\u001b[35m\tARCH: [4 for _ in range(25)] LR: 0.01\u001b[0m\n",
      "\u001b[5m\u001b[35m############################################\n",
      "\u001b[0m\n"
     ]
    },
    {
     "data": {
      "application/vnd.jupyter.widget-view+json": {
       "model_id": "05c583e40ce14d65886483cda98fe4d0",
       "version_major": 2,
       "version_minor": 0
      },
      "text/plain": [
       "  0%|          | 0/10 [00:00<?, ?it/s]"
      ]
     },
     "metadata": {},
     "output_type": "display_data"
    },
    {
     "name": "stdout",
     "output_type": "stream",
     "text": [
      "============================= COMPLETE =============================\n",
      "------ ARCH: [4 for _ in range(25)] LR: 0.01 CONVERGENCE------\n",
      "****** Adam ******\n",
      "Dead Neurons: 27.67\tDead Layers: 25.000\tTraining Time: 4.760\n",
      "\n",
      "\n",
      "****** SGD ******\n",
      "Dead Neurons: 25.14\tDead Layers: 25.000\tTraining Time: 8.821\n",
      "\n",
      "\n",
      "============================= COMPLETE =============================\n",
      "\n",
      "\n",
      "\n",
      "\n",
      "============================= COMPLETE =============================\n",
      "------ ARCH: [4 for _ in range(25)] LR: 0.01 NO CONVERGENCE------\n",
      "****** Adam ******\n",
      "Dead Neurons: 24.50\tDead Layers: 25.000\tTraining Time: 4.744\n",
      "\n",
      "\n",
      "****** SGD ******\n",
      "Dead Neurons: 25.00\tDead Layers: 25.000\tTraining Time: 2.783\n",
      "\n",
      "\n",
      "============================= COMPLETE =============================\n",
      "\n",
      "\n",
      "\n",
      "\n",
      "\u001b[5m\u001b[35m################# TRAINING #################\u001b[0m\n",
      "\u001b[5m\u001b[35m\tARCH: [4 for _ in range(30)] LR: 0.01\u001b[0m\n",
      "\u001b[5m\u001b[35m############################################\n",
      "\u001b[0m\n"
     ]
    },
    {
     "data": {
      "application/vnd.jupyter.widget-view+json": {
       "model_id": "3b2bd22b1a444e3791db9e0ee3ee9440",
       "version_major": 2,
       "version_minor": 0
      },
      "text/plain": [
       "  0%|          | 0/10 [00:00<?, ?it/s]"
      ]
     },
     "metadata": {},
     "output_type": "display_data"
    },
    {
     "name": "stdout",
     "output_type": "stream",
     "text": [
      "============================= COMPLETE =============================\n",
      "------ ARCH: [4 for _ in range(30)] LR: 0.01 CONVERGENCE------\n",
      "****** Adam ******\n",
      "Dead Neurons: 28.89\tDead Layers: 30.000\tTraining Time: 10.438\n",
      "\n",
      "\n",
      "****** SGD ******\n",
      "Dead Neurons: 29.80\tDead Layers: 30.000\tTraining Time: 3.283\n",
      "\n",
      "\n",
      "============================= COMPLETE =============================\n",
      "\n",
      "\n",
      "\n",
      "\n",
      "============================= COMPLETE =============================\n",
      "------ ARCH: [4 for _ in range(30)] LR: 0.01 NO CONVERGENCE------\n",
      "****** Adam ******\n",
      "Dead Neurons: 30.00\tDead Layers: 30.000\tTraining Time: 5.569\n",
      "\n",
      "\n",
      "****** SGD ******\n",
      "Dead Neurons: 29.00\tDead Layers: 30.000\tTraining Time: 3.294\n",
      "\n",
      "\n",
      "============================= COMPLETE =============================\n",
      "\n",
      "\n",
      "\n",
      "\n",
      "\u001b[5m\u001b[33m==================EXPERIMENT COMPLETE ==================\u001b[0m\n",
      "\u001b[5m\u001b[33m==================STARTING EXPERIMENT==================\u001b[0m\n",
      "\u001b[5m\u001b[35m################# TRAINING #################\u001b[0m\n",
      "\u001b[5m\u001b[35m\tARCH: [4 for _ in range(2)] LR: 0.001\u001b[0m\n",
      "\u001b[5m\u001b[35m############################################\n",
      "\u001b[0m\n"
     ]
    },
    {
     "data": {
      "application/vnd.jupyter.widget-view+json": {
       "model_id": "d8b87f7e98c64759b18e83ca77484d38",
       "version_major": 2,
       "version_minor": 0
      },
      "text/plain": [
       "  0%|          | 0/10 [00:00<?, ?it/s]"
      ]
     },
     "metadata": {},
     "output_type": "display_data"
    },
    {
     "name": "stdout",
     "output_type": "stream",
     "text": [
      "============================= COMPLETE =============================\n",
      "------ ARCH: [4 for _ in range(2)] LR: 0.001 CONVERGENCE------\n",
      "****** Adam ******\n",
      "Dead Neurons: 0.00\tDead Layers: 2.000\tTraining Time: 0.654\n",
      "\n",
      "\n",
      "****** SGD ******\n",
      "Dead Neurons: nan\tDead Layers: nan\tTraining Time: nan\n",
      "\n",
      "\n",
      "============================= COMPLETE =============================\n",
      "\n",
      "\n",
      "\n",
      "\n",
      "============================= COMPLETE =============================\n",
      "------ ARCH: [4 for _ in range(2)] LR: 0.001 NO CONVERGENCE------\n",
      "****** Adam ******\n",
      "Dead Neurons: 2.00\tDead Layers: 2.000\tTraining Time: 0.642\n",
      "\n",
      "\n",
      "****** SGD ******\n",
      "Dead Neurons: 1.10\tDead Layers: 2.000\tTraining Time: 1.618\n",
      "\n",
      "\n",
      "============================= COMPLETE =============================\n",
      "\n",
      "\n",
      "\n",
      "\n",
      "\u001b[5m\u001b[35m################# TRAINING #################\u001b[0m\n",
      "\u001b[5m\u001b[35m\tARCH: [4 for _ in range(5)] LR: 0.001\u001b[0m\n",
      "\u001b[5m\u001b[35m############################################\n",
      "\u001b[0m\n"
     ]
    },
    {
     "data": {
      "application/vnd.jupyter.widget-view+json": {
       "model_id": "3076cdb572c34aa68a71665b619295bc",
       "version_major": 2,
       "version_minor": 0
      },
      "text/plain": [
       "  0%|          | 0/10 [00:00<?, ?it/s]"
      ]
     },
     "metadata": {},
     "output_type": "display_data"
    },
    {
     "name": "stdout",
     "output_type": "stream",
     "text": [
      "============================= COMPLETE =============================\n",
      "------ ARCH: [4 for _ in range(5)] LR: 0.001 CONVERGENCE------\n",
      "****** Adam ******\n",
      "Dead Neurons: 3.00\tDead Layers: 5.000\tTraining Time: 1.184\n",
      "\n",
      "\n",
      "****** SGD ******\n",
      "Dead Neurons: nan\tDead Layers: nan\tTraining Time: nan\n",
      "\n",
      "\n",
      "============================= COMPLETE =============================\n",
      "\n",
      "\n",
      "\n",
      "\n",
      "============================= COMPLETE =============================\n",
      "------ ARCH: [4 for _ in range(5)] LR: 0.001 NO CONVERGENCE------\n",
      "****** Adam ******\n",
      "Dead Neurons: 5.50\tDead Layers: 5.000\tTraining Time: 1.178\n",
      "\n",
      "\n",
      "****** SGD ******\n",
      "Dead Neurons: 3.80\tDead Layers: 5.000\tTraining Time: 0.727\n",
      "\n",
      "\n",
      "============================= COMPLETE =============================\n",
      "\n",
      "\n",
      "\n",
      "\n",
      "\u001b[5m\u001b[35m################# TRAINING #################\u001b[0m\n",
      "\u001b[5m\u001b[35m\tARCH: [4 for _ in range(10)] LR: 0.001\u001b[0m\n",
      "\u001b[5m\u001b[35m############################################\n",
      "\u001b[0m\n"
     ]
    },
    {
     "data": {
      "application/vnd.jupyter.widget-view+json": {
       "model_id": "ade1714a8feb48f3ba8aac3d58cb4cd6",
       "version_major": 2,
       "version_minor": 0
      },
      "text/plain": [
       "  0%|          | 0/10 [00:00<?, ?it/s]"
      ]
     },
     "metadata": {},
     "output_type": "display_data"
    },
    {
     "name": "stdout",
     "output_type": "stream",
     "text": [
      "============================= COMPLETE =============================\n",
      "------ ARCH: [4 for _ in range(10)] LR: 0.001 CONVERGENCE------\n",
      "****** Adam ******\n",
      "Dead Neurons: 8.75\tDead Layers: 10.000\tTraining Time: 2.053\n",
      "\n",
      "\n",
      "****** SGD ******\n",
      "Dead Neurons: nan\tDead Layers: nan\tTraining Time: nan\n",
      "\n",
      "\n",
      "============================= COMPLETE =============================\n",
      "\n",
      "\n",
      "\n",
      "\n",
      "============================= COMPLETE =============================\n",
      "------ ARCH: [4 for _ in range(10)] LR: 0.001 NO CONVERGENCE------\n",
      "****** Adam ******\n",
      "Dead Neurons: 8.67\tDead Layers: 10.000\tTraining Time: 2.061\n",
      "\n",
      "\n",
      "****** SGD ******\n",
      "Dead Neurons: 9.10\tDead Layers: 10.000\tTraining Time: 3.675\n",
      "\n",
      "\n",
      "============================= COMPLETE =============================\n",
      "\n",
      "\n",
      "\n",
      "\n",
      "\u001b[5m\u001b[35m################# TRAINING #################\u001b[0m\n",
      "\u001b[5m\u001b[35m\tARCH: [4 for _ in range(15)] LR: 0.001\u001b[0m\n",
      "\u001b[5m\u001b[35m############################################\n",
      "\u001b[0m\n"
     ]
    },
    {
     "data": {
      "application/vnd.jupyter.widget-view+json": {
       "model_id": "51d6abafa58c40479d45b3a8e5dcf93a",
       "version_major": 2,
       "version_minor": 0
      },
      "text/plain": [
       "  0%|          | 0/10 [00:00<?, ?it/s]"
      ]
     },
     "metadata": {},
     "output_type": "display_data"
    },
    {
     "name": "stdout",
     "output_type": "stream",
     "text": [
      "============================= COMPLETE =============================\n",
      "------ ARCH: [4 for _ in range(15)] LR: 0.001 CONVERGENCE------\n",
      "****** Adam ******\n",
      "Dead Neurons: 12.38\tDead Layers: 15.000\tTraining Time: 9.615\n",
      "\n",
      "\n",
      "****** SGD ******\n",
      "Dead Neurons: nan\tDead Layers: nan\tTraining Time: nan\n",
      "\n",
      "\n",
      "============================= COMPLETE =============================\n",
      "\n",
      "\n",
      "\n",
      "\n",
      "============================= COMPLETE =============================\n",
      "------ ARCH: [4 for _ in range(15)] LR: 0.001 NO CONVERGENCE------\n",
      "****** Adam ******\n",
      "Dead Neurons: 16.00\tDead Layers: 15.000\tTraining Time: 2.939\n",
      "\n",
      "\n",
      "****** SGD ******\n",
      "Dead Neurons: 13.10\tDead Layers: 15.000\tTraining Time: 1.765\n",
      "\n",
      "\n",
      "============================= COMPLETE =============================\n",
      "\n",
      "\n",
      "\n",
      "\n",
      "\u001b[5m\u001b[35m################# TRAINING #################\u001b[0m\n",
      "\u001b[5m\u001b[35m\tARCH: [4 for _ in range(20)] LR: 0.001\u001b[0m\n",
      "\u001b[5m\u001b[35m############################################\n",
      "\u001b[0m\n"
     ]
    },
    {
     "data": {
      "application/vnd.jupyter.widget-view+json": {
       "model_id": "a63a0b74b59f4076a82fc7051f0f0691",
       "version_major": 2,
       "version_minor": 0
      },
      "text/plain": [
       "  0%|          | 0/10 [00:00<?, ?it/s]"
      ]
     },
     "metadata": {},
     "output_type": "display_data"
    },
    {
     "name": "stdout",
     "output_type": "stream",
     "text": [
      "============================= COMPLETE =============================\n",
      "------ ARCH: [4 for _ in range(20)] LR: 0.001 CONVERGENCE------\n",
      "****** Adam ******\n",
      "Dead Neurons: 17.50\tDead Layers: 20.000\tTraining Time: 3.807\n",
      "\n",
      "\n",
      "****** SGD ******\n",
      "Dead Neurons: nan\tDead Layers: nan\tTraining Time: nan\n",
      "\n",
      "\n",
      "============================= COMPLETE =============================\n",
      "\n",
      "\n",
      "\n",
      "\n",
      "============================= COMPLETE =============================\n",
      "------ ARCH: [4 for _ in range(20)] LR: 0.001 NO CONVERGENCE------\n",
      "****** Adam ******\n",
      "Dead Neurons: 19.67\tDead Layers: 20.000\tTraining Time: 3.827\n",
      "\n",
      "\n",
      "****** SGD ******\n",
      "Dead Neurons: 18.80\tDead Layers: 20.000\tTraining Time: 2.280\n",
      "\n",
      "\n",
      "============================= COMPLETE =============================\n",
      "\n",
      "\n",
      "\n",
      "\n",
      "\u001b[5m\u001b[35m################# TRAINING #################\u001b[0m\n",
      "\u001b[5m\u001b[35m\tARCH: [4 for _ in range(25)] LR: 0.001\u001b[0m\n",
      "\u001b[5m\u001b[35m############################################\n",
      "\u001b[0m\n"
     ]
    },
    {
     "data": {
      "application/vnd.jupyter.widget-view+json": {
       "model_id": "73359cf4e6a543409d8bd5fd8c0337fa",
       "version_major": 2,
       "version_minor": 0
      },
      "text/plain": [
       "  0%|          | 0/10 [00:00<?, ?it/s]"
      ]
     },
     "metadata": {},
     "output_type": "display_data"
    },
    {
     "name": "stdout",
     "output_type": "stream",
     "text": [
      "============================= COMPLETE =============================\n",
      "------ ARCH: [4 for _ in range(25)] LR: 0.001 CONVERGENCE------\n",
      "****** Adam ******\n",
      "Dead Neurons: 21.67\tDead Layers: 25.000\tTraining Time: 22.360\n",
      "\n",
      "\n",
      "****** SGD ******\n",
      "Dead Neurons: nan\tDead Layers: nan\tTraining Time: nan\n",
      "\n",
      "\n",
      "============================= COMPLETE =============================\n",
      "\n",
      "\n",
      "\n",
      "\n",
      "============================= COMPLETE =============================\n",
      "------ ARCH: [4 for _ in range(25)] LR: 0.001 NO CONVERGENCE------\n",
      "****** Adam ******\n",
      "Dead Neurons: 25.43\tDead Layers: 25.000\tTraining Time: 4.671\n",
      "\n",
      "\n",
      "****** SGD ******\n",
      "Dead Neurons: 26.20\tDead Layers: 25.000\tTraining Time: 6.089\n",
      "\n",
      "\n",
      "============================= COMPLETE =============================\n",
      "\n",
      "\n",
      "\n",
      "\n",
      "\u001b[5m\u001b[35m################# TRAINING #################\u001b[0m\n",
      "\u001b[5m\u001b[35m\tARCH: [4 for _ in range(30)] LR: 0.001\u001b[0m\n",
      "\u001b[5m\u001b[35m############################################\n",
      "\u001b[0m\n"
     ]
    },
    {
     "data": {
      "application/vnd.jupyter.widget-view+json": {
       "model_id": "760ff07fea9844a5a142dda235b3319c",
       "version_major": 2,
       "version_minor": 0
      },
      "text/plain": [
       "  0%|          | 0/10 [00:00<?, ?it/s]"
      ]
     },
     "metadata": {},
     "output_type": "display_data"
    },
    {
     "name": "stdout",
     "output_type": "stream",
     "text": [
      "============================= COMPLETE =============================\n",
      "------ ARCH: [4 for _ in range(30)] LR: 0.001 CONVERGENCE------\n",
      "****** Adam ******\n",
      "Dead Neurons: 26.86\tDead Layers: 30.000\tTraining Time: 5.547\n",
      "\n",
      "\n",
      "****** SGD ******\n",
      "Dead Neurons: nan\tDead Layers: nan\tTraining Time: nan\n",
      "\n",
      "\n",
      "============================= COMPLETE =============================\n",
      "\n",
      "\n",
      "\n",
      "\n",
      "============================= COMPLETE =============================\n",
      "------ ARCH: [4 for _ in range(30)] LR: 0.001 NO CONVERGENCE------\n",
      "****** Adam ******\n",
      "Dead Neurons: 29.33\tDead Layers: 30.000\tTraining Time: 5.526\n",
      "\n",
      "\n",
      "****** SGD ******\n",
      "Dead Neurons: 27.70\tDead Layers: 30.000\tTraining Time: 3.281\n",
      "\n",
      "\n",
      "============================= COMPLETE =============================\n",
      "\n",
      "\n",
      "\n",
      "\n",
      "\u001b[5m\u001b[33m==================EXPERIMENT COMPLETE ==================\u001b[0m\n",
      "\u001b[5m\u001b[33m==================STARTING EXPERIMENT==================\u001b[0m\n",
      "\u001b[5m\u001b[35m################# TRAINING #################\u001b[0m\n",
      "\u001b[5m\u001b[35m\tARCH: [4 for _ in range(2)] LR: 0.1\u001b[0m\n",
      "\u001b[5m\u001b[35m############################################\n",
      "\u001b[0m\n"
     ]
    },
    {
     "data": {
      "application/vnd.jupyter.widget-view+json": {
       "model_id": "96e6988fd5b34d1bb79cc5a5db3552d2",
       "version_major": 2,
       "version_minor": 0
      },
      "text/plain": [
       "  0%|          | 0/10 [00:00<?, ?it/s]"
      ]
     },
     "metadata": {},
     "output_type": "display_data"
    },
    {
     "name": "stdout",
     "output_type": "stream",
     "text": [
      "============================= COMPLETE =============================\n",
      "------ ARCH: [4 for _ in range(2)] LR: 0.1 CONVERGENCE------\n",
      "****** Adam ******\n",
      "Dead Neurons: 1.12\tDead Layers: 2.000\tTraining Time: 0.645\n",
      "\n",
      "\n",
      "****** SGD ******\n",
      "Dead Neurons: 0.00\tDead Layers: 2.000\tTraining Time: 0.410\n",
      "\n",
      "\n",
      "============================= COMPLETE =============================\n",
      "\n",
      "\n",
      "\n",
      "\n",
      "============================= COMPLETE =============================\n",
      "------ ARCH: [4 for _ in range(2)] LR: 0.1 NO CONVERGENCE------\n",
      "****** Adam ******\n",
      "Dead Neurons: 2.50\tDead Layers: 2.000\tTraining Time: 0.643\n",
      "\n",
      "\n",
      "****** SGD ******\n",
      "Dead Neurons: 1.57\tDead Layers: 2.000\tTraining Time: 0.411\n",
      "\n",
      "\n",
      "============================= COMPLETE =============================\n",
      "\n",
      "\n",
      "\n",
      "\n",
      "\u001b[5m\u001b[35m################# TRAINING #################\u001b[0m\n",
      "\u001b[5m\u001b[35m\tARCH: [4 for _ in range(5)] LR: 0.1\u001b[0m\n",
      "\u001b[5m\u001b[35m############################################\n",
      "\u001b[0m\n"
     ]
    },
    {
     "data": {
      "application/vnd.jupyter.widget-view+json": {
       "model_id": "029b6e2073ad4d67ab219e6313e4867c",
       "version_major": 2,
       "version_minor": 0
      },
      "text/plain": [
       "  0%|          | 0/10 [00:00<?, ?it/s]"
      ]
     },
     "metadata": {},
     "output_type": "display_data"
    },
    {
     "name": "stdout",
     "output_type": "stream",
     "text": [
      "============================= COMPLETE =============================\n",
      "------ ARCH: [4 for _ in range(5)] LR: 0.1 CONVERGENCE------\n",
      "****** Adam ******\n",
      "Dead Neurons: 7.00\tDead Layers: 5.000\tTraining Time: 1.196\n",
      "\n",
      "\n",
      "****** SGD ******\n",
      "Dead Neurons: 2.33\tDead Layers: 5.000\tTraining Time: 0.722\n",
      "\n",
      "\n",
      "============================= COMPLETE =============================\n",
      "\n",
      "\n",
      "\n",
      "\n",
      "============================= COMPLETE =============================\n",
      "------ ARCH: [4 for _ in range(5)] LR: 0.1 NO CONVERGENCE------\n",
      "****** Adam ******\n",
      "Dead Neurons: 8.00\tDead Layers: 5.000\tTraining Time: 1.178\n",
      "\n",
      "\n",
      "****** SGD ******\n",
      "Dead Neurons: 4.71\tDead Layers: 5.000\tTraining Time: 0.727\n",
      "\n",
      "\n",
      "============================= COMPLETE =============================\n",
      "\n",
      "\n",
      "\n",
      "\n",
      "\u001b[5m\u001b[35m################# TRAINING #################\u001b[0m\n",
      "\u001b[5m\u001b[35m\tARCH: [4 for _ in range(10)] LR: 0.1\u001b[0m\n",
      "\u001b[5m\u001b[35m############################################\n",
      "\u001b[0m\n"
     ]
    },
    {
     "data": {
      "application/vnd.jupyter.widget-view+json": {
       "model_id": "dd3d2024eabd43c4b039b35ac28642a3",
       "version_major": 2,
       "version_minor": 0
      },
      "text/plain": [
       "  0%|          | 0/10 [00:00<?, ?it/s]"
      ]
     },
     "metadata": {},
     "output_type": "display_data"
    },
    {
     "name": "stdout",
     "output_type": "stream",
     "text": [
      "============================= COMPLETE =============================\n",
      "------ ARCH: [4 for _ in range(10)] LR: 0.1 CONVERGENCE------\n",
      "****** Adam ******\n",
      "Dead Neurons: 15.00\tDead Layers: 10.000\tTraining Time: 2.050\n",
      "\n",
      "\n",
      "****** SGD ******\n",
      "Dead Neurons: 8.30\tDead Layers: 10.000\tTraining Time: 1.238\n",
      "\n",
      "\n",
      "============================= COMPLETE =============================\n",
      "\n",
      "\n",
      "\n",
      "\n",
      "============================= COMPLETE =============================\n",
      "------ ARCH: [4 for _ in range(10)] LR: 0.1 NO CONVERGENCE------\n",
      "****** Adam ******\n",
      "Dead Neurons: 16.86\tDead Layers: 10.000\tTraining Time: 2.055\n",
      "\n",
      "\n",
      "****** SGD ******\n",
      "Dead Neurons: nan\tDead Layers: nan\tTraining Time: nan\n",
      "\n",
      "\n",
      "============================= COMPLETE =============================\n",
      "\n",
      "\n",
      "\n",
      "\n",
      "\u001b[5m\u001b[35m################# TRAINING #################\u001b[0m\n",
      "\u001b[5m\u001b[35m\tARCH: [4 for _ in range(15)] LR: 0.1\u001b[0m\n",
      "\u001b[5m\u001b[35m############################################\n",
      "\u001b[0m\n"
     ]
    },
    {
     "data": {
      "application/vnd.jupyter.widget-view+json": {
       "model_id": "e33677838405445b89025758799432af",
       "version_major": 2,
       "version_minor": 0
      },
      "text/plain": [
       "  0%|          | 0/10 [00:00<?, ?it/s]"
      ]
     },
     "metadata": {},
     "output_type": "display_data"
    },
    {
     "name": "stdout",
     "output_type": "stream",
     "text": [
      "============================= COMPLETE =============================\n",
      "------ ARCH: [4 for _ in range(15)] LR: 0.1 CONVERGENCE------\n",
      "****** Adam ******\n",
      "Dead Neurons: 26.25\tDead Layers: 15.000\tTraining Time: 2.933\n",
      "\n",
      "\n",
      "****** SGD ******\n",
      "Dead Neurons: 14.20\tDead Layers: 15.000\tTraining Time: 1.751\n",
      "\n",
      "\n",
      "============================= COMPLETE =============================\n",
      "\n",
      "\n",
      "\n",
      "\n",
      "============================= COMPLETE =============================\n",
      "------ ARCH: [4 for _ in range(15)] LR: 0.1 NO CONVERGENCE------\n",
      "****** Adam ******\n",
      "Dead Neurons: 26.67\tDead Layers: 15.000\tTraining Time: 2.928\n",
      "\n",
      "\n",
      "****** SGD ******\n",
      "Dead Neurons: 14.80\tDead Layers: 15.000\tTraining Time: 1.759\n",
      "\n",
      "\n",
      "============================= COMPLETE =============================\n",
      "\n",
      "\n",
      "\n",
      "\n",
      "\u001b[5m\u001b[35m################# TRAINING #################\u001b[0m\n",
      "\u001b[5m\u001b[35m\tARCH: [4 for _ in range(20)] LR: 0.1\u001b[0m\n",
      "\u001b[5m\u001b[35m############################################\n",
      "\u001b[0m\n"
     ]
    },
    {
     "data": {
      "application/vnd.jupyter.widget-view+json": {
       "model_id": "a4ae107012e84a1b802f3c4c2a788674",
       "version_major": 2,
       "version_minor": 0
      },
      "text/plain": [
       "  0%|          | 0/10 [00:00<?, ?it/s]"
      ]
     },
     "metadata": {},
     "output_type": "display_data"
    },
    {
     "name": "stdout",
     "output_type": "stream",
     "text": [
      "============================= COMPLETE =============================\n",
      "------ ARCH: [4 for _ in range(20)] LR: 0.1 CONVERGENCE------\n",
      "****** Adam ******\n",
      "Dead Neurons: 31.67\tDead Layers: 20.000\tTraining Time: 3.805\n",
      "\n",
      "\n",
      "****** SGD ******\n",
      "Dead Neurons: 18.57\tDead Layers: 20.000\tTraining Time: 2.348\n",
      "\n",
      "\n",
      "============================= COMPLETE =============================\n",
      "\n",
      "\n",
      "\n",
      "\n",
      "============================= COMPLETE =============================\n",
      "------ ARCH: [4 for _ in range(20)] LR: 0.1 NO CONVERGENCE------\n",
      "****** Adam ******\n",
      "Dead Neurons: 36.25\tDead Layers: 20.000\tTraining Time: 3.983\n",
      "\n",
      "\n",
      "****** SGD ******\n",
      "Dead Neurons: 18.33\tDead Layers: 20.000\tTraining Time: 2.264\n",
      "\n",
      "\n",
      "============================= COMPLETE =============================\n",
      "\n",
      "\n",
      "\n",
      "\n",
      "\u001b[5m\u001b[35m################# TRAINING #################\u001b[0m\n",
      "\u001b[5m\u001b[35m\tARCH: [4 for _ in range(25)] LR: 0.1\u001b[0m\n",
      "\u001b[5m\u001b[35m############################################\n",
      "\u001b[0m\n"
     ]
    },
    {
     "data": {
      "application/vnd.jupyter.widget-view+json": {
       "model_id": "a6a042b6788b4d0aba0bf2c892d1753c",
       "version_major": 2,
       "version_minor": 0
      },
      "text/plain": [
       "  0%|          | 0/10 [00:00<?, ?it/s]"
      ]
     },
     "metadata": {},
     "output_type": "display_data"
    },
    {
     "name": "stdout",
     "output_type": "stream",
     "text": [
      "============================= COMPLETE =============================\n",
      "------ ARCH: [4 for _ in range(25)] LR: 0.1 CONVERGENCE------\n",
      "****** Adam ******\n",
      "Dead Neurons: 45.33\tDead Layers: 25.000\tTraining Time: 9.732\n",
      "\n",
      "\n",
      "****** SGD ******\n",
      "Dead Neurons: 27.40\tDead Layers: 25.000\tTraining Time: 5.499\n",
      "\n",
      "\n",
      "============================= COMPLETE =============================\n",
      "\n",
      "\n",
      "\n",
      "\n",
      "============================= COMPLETE =============================\n",
      "------ ARCH: [4 for _ in range(25)] LR: 0.1 NO CONVERGENCE------\n",
      "****** Adam ******\n",
      "Dead Neurons: 45.14\tDead Layers: 25.000\tTraining Time: 9.088\n",
      "\n",
      "\n",
      "****** SGD ******\n",
      "Dead Neurons: 28.80\tDead Layers: 25.000\tTraining Time: 5.777\n",
      "\n",
      "\n",
      "============================= COMPLETE =============================\n",
      "\n",
      "\n",
      "\n",
      "\n",
      "\u001b[5m\u001b[35m################# TRAINING #################\u001b[0m\n",
      "\u001b[5m\u001b[35m\tARCH: [4 for _ in range(30)] LR: 0.1\u001b[0m\n",
      "\u001b[5m\u001b[35m############################################\n",
      "\u001b[0m\n"
     ]
    },
    {
     "data": {
      "application/vnd.jupyter.widget-view+json": {
       "model_id": "5216e3d34b9444f499ca8164ef568e6d",
       "version_major": 2,
       "version_minor": 0
      },
      "text/plain": [
       "  0%|          | 0/10 [00:00<?, ?it/s]"
      ]
     },
     "metadata": {},
     "output_type": "display_data"
    },
    {
     "name": "stdout",
     "output_type": "stream",
     "text": [
      "============================= COMPLETE =============================\n",
      "------ ARCH: [4 for _ in range(30)] LR: 0.1 CONVERGENCE------\n",
      "****** Adam ******\n",
      "Dead Neurons: 55.00\tDead Layers: 30.000\tTraining Time: 11.552\n",
      "\n",
      "\n",
      "****** SGD ******\n",
      "Dead Neurons: 28.00\tDead Layers: 30.000\tTraining Time: 6.368\n",
      "\n",
      "\n",
      "============================= COMPLETE =============================\n",
      "\n",
      "\n",
      "\n",
      "\n",
      "============================= COMPLETE =============================\n",
      "------ ARCH: [4 for _ in range(30)] LR: 0.1 NO CONVERGENCE------\n",
      "****** Adam ******\n",
      "Dead Neurons: 54.57\tDead Layers: 30.000\tTraining Time: 10.693\n",
      "\n",
      "\n",
      "****** SGD ******\n",
      "Dead Neurons: 29.00\tDead Layers: 30.000\tTraining Time: 5.943\n",
      "\n",
      "\n",
      "============================= COMPLETE =============================\n",
      "\n",
      "\n",
      "\n",
      "\n",
      "\u001b[5m\u001b[33m==================EXPERIMENT COMPLETE ==================\u001b[0m\n"
     ]
    }
   ],
   "source": [
    "run_all()"
   ]
  }
 ],
 "metadata": {
  "interpreter": {
   "hash": "3d8aeb55645092b5ba1a1f1c70dced96779d3214ac1f3d068b8004066b2b1643"
  },
  "kernelspec": {
   "display_name": "Python 3 (ipykernel)",
   "language": "python",
   "name": "python3"
  },
  "language_info": {
   "codemirror_mode": {
    "name": "ipython",
    "version": 3
   },
   "file_extension": ".py",
   "mimetype": "text/x-python",
   "name": "python",
   "nbconvert_exporter": "python",
   "pygments_lexer": "ipython3",
   "version": "3.8.7"
  },
  "varInspector": {
   "cols": {
    "lenName": 16,
    "lenType": 16,
    "lenVar": 40
   },
   "kernels_config": {
    "python": {
     "delete_cmd_postfix": "",
     "delete_cmd_prefix": "del ",
     "library": "var_list.py",
     "varRefreshCmd": "print(var_dic_list())"
    },
    "r": {
     "delete_cmd_postfix": ") ",
     "delete_cmd_prefix": "rm(",
     "library": "var_list.r",
     "varRefreshCmd": "cat(var_dic_list()) "
    }
   },
   "types_to_exclude": [
    "module",
    "function",
    "builtin_function_or_method",
    "instance",
    "_Feature"
   ],
   "window_display": false
  }
 },
 "nbformat": 4,
 "nbformat_minor": 5
}
